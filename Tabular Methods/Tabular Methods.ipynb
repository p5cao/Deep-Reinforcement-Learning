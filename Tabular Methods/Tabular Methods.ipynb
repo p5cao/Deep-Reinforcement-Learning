{
 "cells": [
  {
   "cell_type": "markdown",
   "metadata": {},
   "source": [
    "# Assignment 1: Tabular Methods\n",
    "\n",
    "Name: Chuqiao Song\n",
    "\n",
    "ID: A53239614"
   ]
  },
  {
   "cell_type": "markdown",
   "metadata": {},
   "source": [
    "This exercise requires you to solve a simple grid-world problem called 'FrozenLake-v0' in OpenAI Gym.  We will solve the problem in two different ways. First we will solve the problem using dynamic programming, thus requiring a model of the system. Second we will do it using model-free temporal difference (Q-Learning). Finally, as a bonus you may also show it learning using a naive approach called hill-climbing. \n",
    "\n",
    "### Required for all \n",
    "#### Set up environment"
   ]
  },
  {
   "cell_type": "code",
   "execution_count": 2,
   "metadata": {},
   "outputs": [],
   "source": [
    "%matplotlib inline\n",
    "import gym\n",
    "import numpy as np\n",
    "from matplotlib import pyplot as plt\n",
    "env = gym.make('FrozenLake-v0')\n"
   ]
  },
  {
   "cell_type": "markdown",
   "metadata": {},
   "source": [
    "#### Pre. Test Policy Function\n",
    "Write a function to test a policy. Return the average rate of successful episodes over 100 trials. "
   ]
  },
  {
   "cell_type": "code",
   "execution_count": 3,
   "metadata": {},
   "outputs": [],
   "source": [
    "def testPolicy(policy): #where policy is a 4*4 matrix or 1*16 array\n",
    "    #%% ---> start of code\n",
    "    countSuccess = 0\n",
    "    for i_episode in range(100):\n",
    "        observation_t = env.reset()\n",
    "        for timeStep in range(100):            \n",
    "            action_t = policy[observation_t] #where action_t is the index\n",
    "            observation_t, reward, done, info = env.step(action_t) #here observation_t = observation_t+1\n",
    "            if observation_t == 15:\n",
    "                countSuccess += 1\n",
    "                #print(\"Episode finished after {} timesteps, successful\".format(timeStep+1))\n",
    "                break\n",
    "            elif done:\n",
    "                #print(\"Episode finished after {} timesteps, failed\".format(timeStep+1))\n",
    "                break\n",
    "    percentSuccess = countSuccess / 100.0\n",
    "    #%% <--- end of code\n",
    "    return percentSuccess"
   ]
  },
  {
   "cell_type": "markdown",
   "metadata": {},
   "source": [
    "## Model-based Learning\n",
    "\n",
    "### 1. Policy Iteration\n",
    "Perform policy iteration on the Frozenlake example. \n",
    "\n",
    "\n",
    "#### 1.1 Find the system model\n",
    "First, model $T(s,a,s')$ and $R(s,a,s')$ over 100000 randomly initializations."
   ]
  },
  {
   "cell_type": "code",
   "execution_count": 4,
   "metadata": {
    "scrolled": true
   },
   "outputs": [],
   "source": [
    "def learnModel():\n",
    "    #%% ---> start of code\n",
    "    env = gym.make('FrozenLake-v0')\n",
    "    num_observations = env.env.nS\n",
    "    num_actions = env.env.nA\n",
    "    T = np.zeros((num_observations, num_actions, num_observations))\n",
    "    R = np.zeros((num_observations, num_actions, num_observations))\n",
    "\n",
    "    for _ in range (100000):\n",
    "        s = np.random.choice(num_observations)\n",
    "        a_t = np.random.choice(num_actions)\n",
    "        transitions = env.env.P[s][a_t] # three to one transition\n",
    "        idx = int(np.random.choice(len(transitions)))\n",
    "        pr, s_t, reward, done = transitions[idx]\n",
    "        T [s, a_t, s_t] += 1\n",
    "        \n",
    "        if s_t == 15:\n",
    "            R[s, a_t, s_t] += reward\n",
    "            \n",
    "    normalPlane = T.sum(axis =2)\n",
    "    for i in range(T.shape[2]):\n",
    "        T[:,:,i] = T[:,:,i]/normalPlane\n",
    "    #%% <--- end of code\n",
    "    return R,T\n",
    "\n",
    "\n",
    "#first learn the model    \n",
    "[R,T] = learnModel()\n",
    "\n"
   ]
  },
  {
   "cell_type": "markdown",
   "metadata": {},
   "source": [
    "#### 1.2 What does the transition model tell you about the stochastic behavior of actions? What does it tell you about the stochasticity  of the rewards? What would you expect an optimal agent's policy to do?"
   ]
  },
  {
   "cell_type": "markdown",
   "metadata": {},
   "source": [
    "ans: \n",
    "1. The transition model tells me, the probability of the agent going to next stage state, given the current stage state if this action takes. For example, if the current satge of the agent is at state S1, there are some probabilities that agent may go to one, two, three etc states of the total state space(say S0, S1, S4). Generally, this transition model can minic the agent operating in real word (having noise).\n",
    "\n",
    "2. The reward table collected from transition model tells me, the collected reward for an agent going to next stage state given the current stage state if this action is taken.\n",
    "\n",
    "3. Therefore, optimal agent's policy is chosen based on these two tables; the optimal policy can choose a trajectory that maximaize the long term rewards, and avoid hole places.\n",
    "\n",
    "\n"
   ]
  },
  {
   "cell_type": "markdown",
   "metadata": {},
   "source": [
    "#### 1.3 Write a function for Policy Evaluation"
   ]
  },
  {
   "cell_type": "code",
   "execution_count": 5,
   "metadata": {
    "scrolled": true
   },
   "outputs": [],
   "source": [
    "#runPolicyEvaluation:\n",
    "def runPolicyEvaluation(policy,V,R,T,discount_factor):\n",
    "    #%% ---> start of code\n",
    "    while True:\n",
    "        delta = 0\n",
    "        for s in range (env.env.nS):\n",
    "            temp = np.copy(V[s])\n",
    "            # where [:] is for s' which is the next stage states.\n",
    "            V[s] = T[s, policy[s], :].dot(R[s, policy[s], :] + discount_factor*V[:])\n",
    "#             RVs_prime = [T[s, policy[s], i]*(R[s, policy[s], i] + discount_factor*V[i]) for i in range(env.env.nS)]\n",
    "#             V[s] = sum(RVs_prime)\n",
    "            delta = max(delta, np.abs(temp-V[s]))\n",
    "        if delta< 1e-8:\n",
    "            Vnew = V\n",
    "            break\n",
    "    #%% <--- end of code\n",
    "    return Vnew\n",
    "\n",
    "\n",
    "def runPolicyImprovement(policy, V, R, T, discount_factor):\n",
    "    policy_stable = True\n",
    "    for s in range (env.env.nS):\n",
    "        temp = np.copy(policy[s])\n",
    "        Q = np.zeros(env.env.nA)\n",
    "        for aa in range(env.env.nA):\n",
    "            Q[aa] = T[s, aa, :].dot(R[s, aa, :] + discount_factor*V[:])\n",
    "#             Q[aa] = sum([T[s, aa, i]*(R[s, aa, i] + discount_factor*V[i]) for i in range(env.env.nS)])\n",
    "        policy[s] = Q.argmax()\n",
    "    \n",
    "        if temp != policy[s]:\n",
    "            policy_stable = False \n",
    "    return policy\n",
    "\n"
   ]
  },
  {
   "cell_type": "markdown",
   "metadata": {},
   "source": [
    "#### 1.4 Run Policy iteration.\n",
    "and show a bar graph of successful runs vs iteration on the policy. Use a discount factor of 0.98, and terminate policy  after 40 iterations of policy updates.  Plot the percentSuccesses at every iteration (i.e. the return of the testPolicy function)."
   ]
  },
  {
   "cell_type": "code",
   "execution_count": 6,
   "metadata": {
    "scrolled": true
   },
   "outputs": [
    {
     "name": "stdout",
     "output_type": "stream",
     "text": [
      "Policy iteration policy: [0 3 3 3 0 0 0 0 3 1 0 0 0 2 1 0]\n"
     ]
    },
    {
     "data": {
      "image/png": "[encoded data removed]",
      "text/plain": [
       "<Figure size 432x288 with 1 Axes>"
      ]
     },
     "metadata": {},
     "output_type": "display_data"
    }
   ],
   "source": [
    "#%% ---> start of code\n",
    "policy = np.random.choice(env.env.nA, env.env.nS)\n",
    "V = np.zeros((env.env.nS)) # 1*16\n",
    "discount_factor = 0.98\n",
    "percentSuccesses = [testPolicy(policy)]\n",
    "\n",
    "for i in range (40):\n",
    "    V = runPolicyEvaluation(policy,V,R,T,discount_factor)\n",
    "    policy = runPolicyImprovement(policy, V, R, T, discount_factor)\n",
    "    percentSuccesses.append(testPolicy(policy))\n",
    "\n",
    "#%% <--- end of code\n",
    "\n",
    "\n",
    "# plot improvement over time\n",
    "plt.figure()\n",
    "plt.bar(np.arange(len(percentSuccesses)), 100*np.array(percentSuccesses), align='center', alpha=0.5)\n",
    "plt.ylabel('% Episodes Successful')\n",
    "plt.xlabel('Iteration') \n",
    "plt.title('Policy Iteration',fontsize=16)  \n",
    "print('Policy iteration policy:', policy)"
   ]
  },
  {
   "cell_type": "markdown",
   "metadata": {},
   "source": [
    "## Model-Free Learning"
   ]
  },
  {
   "cell_type": "markdown",
   "metadata": {},
   "source": [
    "### 2 Q Value-Iteration (Q-Learning)\n",
    "\n",
    "#### 2.1 Set up a Q learning function\n",
    "Set your exploration rate to 1-episode_num/total_num_of_episodes for linear convergence from completely random action selection to a greedy policy. Return a set of policies (at 5%, 10%,...100% of the total number of episodes) so that in the later section you can perform policy evaluation on intermediate Q-tables and show progress."
   ]
  },
  {
   "cell_type": "code",
   "execution_count": 20,
   "metadata": {},
   "outputs": [],
   "source": [
    "def runQLearning(learning_rate,discount_factor,num_of_episodes,Q0,explore_type='linear'):\n",
    "    #%% code starts here\n",
    "    Q = Q0 #Q is 16 * 4 matrix\n",
    "    Q_saved = []\n",
    "    #myLR = learning_rate\n",
    "    print_episodes = int(0.05* num_of_episodes)\n",
    "    for episode in range(num_of_episodes):\n",
    "        S = env.reset()   \n",
    "        myLR = learning_rate/(episode/num_of_episodes+1)\n",
    "        if explore_type=='linear':\n",
    "            epsilon = 1 - episode/num_of_episodes\n",
    "        elif explore_type =='log':\n",
    "            epsilon = 1000/(1000+episode)\n",
    "        for step in range(100):\n",
    "            A = getEpsilonGreedyAction (Q, S, epsilon) #choose A from S using policy deribed from Q\n",
    "            S_t, R, done, info = env.step(A) # here S is actually S'\n",
    "            Q[S, A] = Q[S, A] + myLR* (R + discount_factor*Q[S_t,:].max() - Q[S, A]) \n",
    "            #update Q matrix\n",
    "            S = S_t\n",
    "            if S == 15:\n",
    "                break\n",
    "            elif done:\n",
    "                break\n",
    "        if (episode+1) % print_episodes == 0:\n",
    "            Q_saved.append(Q.copy()) #save last Q\n",
    "    #%% code ends here\n",
    "    return Q_saved\n",
    "\n",
    "def getEpsilonGreedyAction(Q, S, epsilon):\n",
    "    action_idx = int(Q[S].argmax())\n",
    "    greedy_prob = 1 - epsilon + epsilon/env.env.nA\n",
    "    not_greedy_prob = epsilon/env.env.nA\n",
    "    weights = np.full(env.env.nA, not_greedy_prob)\n",
    "    weights[action_idx] = greedy_prob\n",
    "    selected_action = np.random.choice(env.env.nA,1,p=weights)\n",
    "    return int(selected_action)"
   ]
  },
  {
   "cell_type": "markdown",
   "metadata": {},
   "source": [
    "#### 2.2 Perform Q-learning. \n",
    "Show policies during intermediate phases of Q-learning, at 0, 10%, 20%,...,100% of the total episodes during training. Set a learning rate of 0.98 and a discount factor of 0.95. Start with a zero-filled Q-table. Run 10000 episodes. Plot the bar graph of the success rate over time to visualize the improvements to success rate the new policies are providing. "
   ]
  },
  {
   "cell_type": "code",
   "execution_count": 19,
   "metadata": {},
   "outputs": [
    {
     "name": "stdout",
     "output_type": "stream",
     "text": [
      "Q-learning (linear) policy: [0 3 0 3 0 0 0 0 3 1 0 0 0 2 1 0]\n"
     ]
    },
    {
     "data": {
      "image/png": "[encoded data removed]",
      "text/plain": [
       "<Figure size 432x288 with 1 Axes>"
      ]
     },
     "metadata": {},
     "output_type": "display_data"
    }
   ],
   "source": [
    "## %% ---> start of code\n",
    "learning_rate = 0.04\n",
    "discount_factor = 0.95\n",
    "num_of_episodes = 10000\n",
    "percentSuccesses= [0.0]\n",
    "Q0 = np.zeros((env.env.nS, env.env.nA))\n",
    "lst_Q = runQLearning(learning_rate,discount_factor,num_of_episodes,Q0,explore_type='linear')\n",
    "for Q in lst_Q:\n",
    "    policy = Q.argmax(axis = 1)\n",
    "    percentSuccesses.append(testPolicy(policy))\n",
    "percentSuccesses = percentSuccesses[0::2]\n",
    "#%% <--- end of code\n",
    "\n",
    "plt.figure()\n",
    "plt.bar(np.arange(len(percentSuccesses)), 100*np.array(percentSuccesses), align='center', alpha=0.5)\n",
    "plt.ylabel('% Episodes Successful')\n",
    "plt.xlabel('Iterations')\n",
    "plt.title('linear Rate Exploitation', fontsize=16)\n",
    "print('Q-learning (linear) policy:', policy)"
   ]
  },
  {
   "cell_type": "markdown",
   "metadata": {},
   "source": [
    "#### 2.3 Log Rate Exploration\n",
    "\n",
    "Run Q-learning for a log exploration rate, $\\frac{1000}{1000+\\text{episode_num}}$, for 10,000 episodes. Perform policy evaluation and plot the success rate over time. You may find setting Q0 to a random number initialization helps (set it to something very small, i.e. 0.000001\\*rand(), since setting it to zero sets a fixed seed)."
   ]
  },
  {
   "cell_type": "code",
   "execution_count": 27,
   "metadata": {
    "scrolled": true
   },
   "outputs": [
    {
     "name": "stdout",
     "output_type": "stream",
     "text": [
      "Q-learning (log) policy: [0 3 1 3 0 0 2 3 3 1 0 1 3 2 1 2]\n"
     ]
    },
    {
     "data": {
      "image/png": "[encoded data removed]",
      "text/plain": [
       "<Figure size 432x288 with 1 Axes>"
      ]
     },
     "metadata": {},
     "output_type": "display_data"
    }
   ],
   "source": [
    "#%% ---> start of code\n",
    "learning_rate = 0.03\n",
    "discount_factor = 0.95\n",
    "num_of_episodes = 10000\n",
    "percentSuccesses= [0.0]\n",
    "#Q0 = np.zeros((env.env.nS, env.env.nA))\n",
    "Q0 = 0.000001*np.random.rand(env.env.nS,env.env.nA)\n",
    "lst_Q = runQLearning(learning_rate,discount_factor,num_of_episodes,Q0,explore_type='log')\n",
    "for Q in lst_Q:\n",
    "    policy = Q.argmax(axis = 1)\n",
    "    percentSuccesses.append(testPolicy(policy))\n",
    "percentSuccesses = percentSuccesses[0::2]\n",
    "#%% <--- end of code\n",
    "\n",
    "plt.figure()\n",
    "plt.bar(np.arange(len(percentSuccesses)),100*np.array(percentSuccesses), align='center', alpha=0.5)\n",
    "plt.ylabel('% Episodes Successful')\n",
    "plt.xlabel('Iterations')\n",
    "plt.title('Log Rate Exploitation', fontsize=16)\n",
    "print('Q-learning (log) policy:', policy)"
   ]
  },
  {
   "cell_type": "markdown",
   "metadata": {
    "collapsed": true
   },
   "source": [
    "### BONUS: Hill Climbing (25%, granted only if Parts 1 and 2 are complete)\n",
    "\n",
    "Demonstrate hill climbing, where your Q values are chosen randomly, and you save improvements, with new Q values to try as $$Q_{test}\\leftarrow Q_{best}+rand(S,A)$$\n",
    "Plot the a bar graph with x-axis labelling the iteration number when an improvement occurred, and y axis as the % of successful episodes. Run on N = 1000 iterations of hill climbing, with 100 episodes per iteration. "
   ]
  },
  {
   "cell_type": "code",
   "execution_count": 34,
   "metadata": {
    "scrolled": false
   },
   "outputs": [
    {
     "name": "stdout",
     "output_type": "stream",
     "text": [
      "[0 3 1 3 0 2 0 2 3 1 0 0 3 2 1 0] : Hill-climbing policy\n"
     ]
    },
    {
     "data": {
      "image/png": "[encoded data removed]",
      "text/plain": [
       "<Figure size 432x288 with 1 Axes>"
      ]
     },
     "metadata": {},
     "output_type": "display_data"
    }
   ],
   "source": [
    "#%% ---> start of code\n",
    "import copy\n",
    "def runQLearning(learning_rate,discount_factor,num_of_episodes,Q0,explore_type='linear'):\n",
    "    Q = Q0 #Q is 16 * 4 matrix\n",
    "    Q_saved = []\n",
    "    #myLR = learning_rate\n",
    "    print_episodes = int(0.05* num_of_episodes)\n",
    "    for episode in range(num_of_episodes):\n",
    "        S = env.reset()   \n",
    "        myLR = learning_rate/(episode/num_of_episodes+1)\n",
    "        if explore_type=='linear':\n",
    "            epsilon = 1 - episode/num_of_episodes\n",
    "        elif explore_type =='log':\n",
    "            epsilon = 1000/(1000+episode)\n",
    "        for step in range(100):\n",
    "            A = getEpsilonGreedyAction (Q, S, epsilon) #choose A from S using policy deribed from Q\n",
    "            S_t, R, done, info = env.step(A) # here S is actually S'\n",
    "            Q[S, A] = Q[S, A] + myLR * (R + discount_factor*Q[S_t,:].max() - Q[S, A]) #update Q matrix\n",
    "            S = S_t\n",
    "            if S == 15:\n",
    "                break\n",
    "            elif done:\n",
    "                break\n",
    "        if (episode+1) % print_episodes == 0:\n",
    "            Q_saved.append(Q.copy()) #save last Q\n",
    "    return Q_saved\n",
    "\n",
    "def getEpsilonGreedyAction(Q, S, epsilon):\n",
    "    action_idx = int(Q[S].argmax())\n",
    "    greedy_prob = 1 - epsilon + epsilon/env.env.nA\n",
    "    not_greedy_prob = epsilon/env.env.nA\n",
    "    weights = np.full(env.env.nA, not_greedy_prob)\n",
    "    weights[action_idx] = greedy_prob\n",
    "    selected_action = np.random.choice(env.env.nA,1,p=weights)\n",
    "    return int(selected_action)\n",
    "\n",
    "learning_rate = 0.03\n",
    "discount_factor = 0.95\n",
    "num_of_episodes = 100\n",
    "\n",
    "#Qbest = 0.000001*np.random.rand(env.env.nS,env.env.nA)\n",
    "Qbest = np.zeros((env.env.nS, env.env.nA))\n",
    "Qbest_policy = Qbest.argmax(axis = 1)\n",
    "Qbest_accu = 0.0\n",
    "#testPolicy(Qbest_policy)\n",
    "improvementsIndex = []\n",
    "percentSuccesses = []\n",
    "\n",
    "\n",
    "for climbing_idx in range(1000):\n",
    "    Qtest = Qbest +  0.0000001*(np.random.rand(env.env.nS,env.env.nA)-0.5)\n",
    "    lst_Qtested = runQLearning(learning_rate,discount_factor,num_of_episodes,Qtest,explore_type='log')\n",
    "    \n",
    "    Qtested = lst_Qtested[-1]\n",
    "    Qtested_policy = Qtested.argmax(axis = 1)\n",
    "    Qtested_accu = testPolicy(Qtested_policy)\n",
    "    \n",
    "    if Qtested_accu > Qbest_accu:\n",
    "        #here I get the improvement\n",
    "        Qbest = copy.deepcopy(Qtested)\n",
    "        Qbest_accu = copy.deepcopy(Qtested_accu)\n",
    "        print(Qbest_accu, end = '\\r')\n",
    "        improvementsIndex.append(climbing_idx)\n",
    "        percentSuccesses.append(Qbest_accu)\n",
    "        \n",
    "policy = Qbest.argmax(axis = 1)    \n",
    "#%% <--- end of code\n",
    "plt.figure()\n",
    "plt.bar(np.arange(len(improvementsIndex)), 100*np.array(percentSuccesses), align='center', alpha=0.5)\n",
    "plt.xticks(np.arange(len(improvementsIndex)),improvementsIndex) \n",
    "plt.ylabel('% Episodes Successful')\n",
    "plt.xlabel('Iteration')\n",
    "plt.title('Hill Climbing',fontsize=16)\n",
    "print(policy,': Hill-climbing policy')"
   ]
  },
  {
   "cell_type": "code",
   "execution_count": 35,
   "metadata": {},
   "outputs": [
    {
     "data": {
      "text/plain": [
       "0.87"
      ]
     },
     "execution_count": 35,
     "metadata": {},
     "output_type": "execute_result"
    }
   ],
   "source": [
    "percentSuccesses[-1]"
   ]
  }
 ],
 "metadata": {
  "kernelspec": {
   "display_name": "Python 3",
   "language": "python",
   "name": "python3"
  },
  "language_info": {
   "codemirror_mode": {
    "name": "ipython",
    "version": 3
   },
   "file_extension": ".py",
   "mimetype": "text/x-python",
   "name": "python",
   "nbconvert_exporter": "python",
   "pygments_lexer": "ipython3",
   "version": "3.6.3"
  },
  "varInspector": {
   "cols": {
    "lenName": 16,
    "lenType": 16,
    "lenVar": 40
   },
   "kernels_config": {
    "python": {
     "delete_cmd_postfix": "",
     "delete_cmd_prefix": "del ",
     "library": "var_list.py",
     "varRefreshCmd": "print(var_dic_list())"
    },
    "r": {
     "delete_cmd_postfix": ") ",
     "delete_cmd_prefix": "rm(",
     "library": "var_list.r",
     "varRefreshCmd": "cat(var_dic_list()) "
    }
   },
   "types_to_exclude": [
    "module",
    "function",
    "builtin_function_or_method",
    "instance",
    "_Feature"
   ],
   "window_display": false
  }
 },
 "nbformat": 4,
 "nbformat_minor": 2
}
