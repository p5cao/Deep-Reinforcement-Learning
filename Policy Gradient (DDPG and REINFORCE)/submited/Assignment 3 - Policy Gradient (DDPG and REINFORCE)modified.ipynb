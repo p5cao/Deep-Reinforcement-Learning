{
 "cells": [
  {
   "cell_type": "markdown",
   "metadata": {},
   "source": [
    "# Assignment 3: Policy Gradients (DDPG and REINFORCE)\n",
    "\n",
    "Name: Chuqiao Song\n",
    "\n",
    "ID: A53239614"
   ]
  },
  {
   "cell_type": "markdown",
   "metadata": {},
   "source": [
    "## Background\n",
    "This exercise requires you to solve various continous control problems in OpenAI-Gym.  \n",
    "\n",
    "DDPG is policy gradient actor critic method for continous control which is off policy. It tackles the curse of dimensionality / loss of performance faced when discretizing a continous action domain. DDPG uses similiar \"tricks\" as DQN to improve the stability of training, including a replay buffer and target networks.\n",
    "\n",
    "Furthermore, you will implement REINFORCE for discrete and continous environments, and as a bonus compare the sample efficiency and performance with DQN and DDPG.\n",
    "\n",
    "\n",
    "### DDPG paper: https://arxiv.org/pdf/1509.02971.pdf\n",
    "\n",
    "### Environments:\n",
    "\n",
    "#### InvertedPendulum-v2 environment:\n",
    "<img src=\"inverted_pendulum.png\" width=\"300\">\n",
    "\n",
    "#### Pendulum-v0 environment:\n",
    "<img src=\"pendulum.png\" width=\"300\">\n",
    "\n",
    "#### Halfcheetah-v2 environment:\n",
    "<img src=\"half_cheetah.png\" width=\"300\">\n",
    "\n"
   ]
  },
  {
   "cell_type": "markdown",
   "metadata": {},
   "source": [
    "### Setup environment for Actor Critic\n",
    "- inline plotting\n",
    "- gym\n",
    "- directory for logging videos"
   ]
  },
  {
   "cell_type": "code",
   "execution_count": 1,
   "metadata": {},
   "outputs": [],
   "source": [
    "%matplotlib inline\n",
    "import matplotlib.pyplot as plt\n",
    "import numpy as np\n",
    "import random\n",
    "import math\n",
    "\n",
    "#environment\n",
    "import gym\n",
    "import os\n",
    "import time\n",
    "#pytorch\n",
    "import torch\n",
    "import torch.nn as nn\n",
    "import torch.optim as optim\n",
    "import torch.nn.functional as F\n",
    "from torch.autograd import Variable\n",
    "\n",
    "logging_interval = 20\n",
    "animate_interval = logging_interval * 5\n",
    "logdir='./DDPG/'"
   ]
  },
  {
   "cell_type": "markdown",
   "metadata": {},
   "source": [
    "### Set up gym environment\n",
    "The code below does the following for you:\n",
    "- Wrap environment, log videos, setup CUDA variables (if GPU is available)\n",
    "- Record action and observation space dimensions\n",
    "- Fix random seed for determinisitic training"
   ]
  },
  {
   "cell_type": "code",
   "execution_count": 2,
   "metadata": {
    "scrolled": true
   },
   "outputs": [
    {
     "name": "stderr",
     "output_type": "stream",
     "text": [
      "[2018-05-15 18:15:02,522] Making new env: HalfCheetah-v1\n",
      "[2018-05-15 18:15:02,888] Clearing 4 monitor files from previous run (because force=True was provided)\n"
     ]
    }
   ],
   "source": [
    "VISUALIZE = True\n",
    "SEED = 0\n",
    "MAX_PATH_LENGTH = 500\n",
    "NUM_EPISODES = 12000\n",
    "GAMMA=0.99\n",
    "BATCH_SIZE = 128\n",
    "\n",
    "# Environments to be tested on\n",
    "# env_name = 'InvertedPendulum-v1'\n",
    "# env_name = 'Pendulum-v0'\n",
    "env_name = 'HalfCheetah-v1' \n",
    "\n",
    "# wrap gym to save videos\n",
    "env = gym.make(env_name)\n",
    "if VISUALIZE:\n",
    "    if not os.path.exists(logdir):\n",
    "        os.mkdir(logdir)\n",
    "    env = gym.wrappers.Monitor(env, logdir, force=True, video_callable=lambda episode_id: episode_id%logging_interval==0)\n",
    "env._max_episodes_steps = MAX_PATH_LENGTH\n",
    "\n",
    "# check observation and action space\n",
    "discrete = isinstance(env.action_space, gym.spaces.Discrete)\n",
    "obs_dim = env.observation_space.shape[0]\n",
    "act_dim = env.action_space.n if discrete else env.action_space.shape[0]\n",
    "\n",
    "if discrete:\n",
    "    print(\"This is a discrete action space, probably not the right algorithm to use\")\n",
    "\n",
    "# set random seeds\n",
    "torch.manual_seed(SEED)\n",
    "np.random.seed(SEED)\n",
    "\n",
    "# make variable types for automatic setting to GPU or CPU, depending on GPU availability\n",
    "use_cuda = torch.cuda.is_available()\n",
    "FloatTensor = torch.cuda.FloatTensor if use_cuda else torch.FloatTensor\n",
    "LongTensor = torch.cuda.LongTensor if use_cuda else torch.LongTensor\n",
    "ByteTensor = torch.cuda.ByteTensor if use_cuda else torch.ByteTensor\n",
    "Tensor = FloatTensor\n"
   ]
  },
  {
   "cell_type": "markdown",
   "metadata": {},
   "source": [
    "### Demonstrate your understanding of the simulation:\n",
    "For the environments mentioned above ('Pendulum-v0', 'HalfCheetah-v2', 'InvertedPendulum-v2'),\n",
    "- describe the reward system\n",
    "- describe the each state variable (observation space)\n",
    "- describe the action space\n",
    "- when is the environment considered \"solved\"?"
   ]
  },
  {
   "cell_type": "markdown",
   "metadata": {},
   "source": [
    "Ans: \n",
    "\n",
    "Pendulum-v0\n",
    "- reward = -(theta^2 + 0.1*theta_dt^2 + 0.001*action^2)\n",
    "- x1 = cos(theta) within [-1,1]; x2 = sin(theta) within [-1,1]; x3 = theta_dot within [-8,8] where theta is the angular of the pendulum, and theta_dot is the angular velocity of the pendulum.\n",
    "- A joint effore within [-2,2]\n",
    "- In general, the pendulum starts randomly at angle from -pi to pi, with random velocity between -1 and 1. There is no specific termination, so I have to manual set up a maximum number of steps for one episode. Also, to optimize this model, we want the pendulum to remain at zero angle (vertical), with least angular velocity as well as the least effort.\n",
    "\n",
    "\n",
    "\n",
    "\n",
    "\n",
    "HalfCheetah-v1\n",
    "- To produce reward in each step, there are two ingredients, one is called reward_control and the other called reward_run. reward_ctrl = - 0.1 * np.square(action).sum(), where action has 6 dimensions, reward_run = (xposafter - xposbefore)/self.dt. Therefore, the reward = reward_ctrl + reward_run which is a scalar.\n",
    "\n",
    "        \n",
    "- State space\n",
    "\n",
    "          (name)    (joint)     (parameter)\n",
    "        - rootx     slider      position (m)\n",
    "        - rootz     slider      position (m)\n",
    "        - rooty     hinge       angle (rad)\n",
    "        - bthigh    hinge       angle (rad)\n",
    "        - bshin     hinge       angle (rad)\n",
    "        - bfoot     hinge       angle (rad)\n",
    "        - fthigh    hinge       angle (rad)\n",
    "        - fshin     hinge       angle (rad)\n",
    "        - ffoot     hinge       angle (rad)\n",
    "        - rootx     slider      velocity (m/s)\n",
    "        - rootz     slider      velocity (m/s)\n",
    "        - rooty     hinge       angular velocity (rad/s)\n",
    "        - bthigh    hinge       angular velocity (rad/s)\n",
    "        - bshin     hinge       angular velocity (rad/s)\n",
    "        - bfoot     hinge       angular velocity (rad/s)\n",
    "        - fthigh    hinge       angular velocity (rad/s)\n",
    "        - fshin     hinge       angular velocity (rad/s)\n",
    "        - ffoot     hinge       angular velocity (rad/s)\n",
    "- Action space\n",
    "\n",
    "          (name)   (actuator)   (parameter):\n",
    "        - bthigh    hinge       torque (N m)\n",
    "        - bshin     hinge       torque (N m)\n",
    "        - bfoot     hinge       torque (N m)\n",
    "        - fthigh    hinge       torque (N m)\n",
    "        - fshin     hinge       torque (N m)\n",
    "        - ffoot     hinge       torque (N m)\n",
    "- When the total reward with in 500 steps for one episode greater than 1500, we consider the cheetah is being well trained.\n",
    "\n",
    "InvertedPendulum-v1\n",
    "- reward is 1 for each step\n",
    "- x1 = cart position, x2 = pole position, x3 = cart velocity, x4 = pole angular velocity\n",
    "- a1 = the force impose on cart\n",
    "- when the average reward greater than 500, we consider the inverted pendulum is being well balanced\n"
   ]
  },
  {
   "cell_type": "markdown",
   "metadata": {},
   "source": [
    "### Implement an action normalization class:\n",
    "To train across various environments, it is useful to normalize action inputs and outputs between [-1, 1]. This class should take in actions and implement forward and reverse functions to map actions between [-1, 1] and [action_space.low, action_space.high].\n",
    "\n",
    "Using the following gym wrapper, implement this class.\n",
    "- https://github.com/openai/gym/blob/78c416ef7bc829ce55b404b6604641ba0cf47d10/gym/core.py\n",
    "- i.e. we are overriding the outputs scale of actions. "
   ]
  },
  {
   "cell_type": "code",
   "execution_count": 4,
   "metadata": {},
   "outputs": [],
   "source": [
    "class NormalizeAction(gym.ActionWrapper):\n",
    "    def action(self, act):\n",
    "        # [-1, 1] => [action_space.low, action_space.high]\n",
    "        #tanh outputs (-1,1) from tanh, need to be [action_space.low, action_space.high]\n",
    "        act = (act + 1)/2  #[-1, 1] => [0,1]\n",
    "        act = act * (self.action_space.high - self.action_space.low)\n",
    "        act = act + self.action_space.low\n",
    "        return act\n",
    "    \n",
    "    def reverse_action(self, act):\n",
    "        # [action_space.low, action_space.high] => [-1,1]\n",
    "        #reverse of that above\n",
    "        act = act - self.action_space.low\n",
    "        act = act / (self.action_space.high - self.action_space.low)\n",
    "        act = act * 2 - 1\n",
    "        return act\n"
   ]
  },
  {
   "cell_type": "markdown",
   "metadata": {},
   "source": [
    "# DDPG"
   ]
  },
  {
   "cell_type": "markdown",
   "metadata": {},
   "source": [
    "### Write a weight syncing function\n",
    "In contrast to DQN, DDPG uses soft weight sychronization. At each time step following training, the actor and critic target network weights are updated to track the rollout networks. \n",
    "- target_network.weights <= target_network.weights \\* (1 - tau) + source_network.weights \\* (tau)"
   ]
  },
  {
   "cell_type": "code",
   "execution_count": 5,
   "metadata": {},
   "outputs": [],
   "source": [
    "def weightSync(target_model, source_model, tau = 0.001):\n",
    "    # soft update\n",
    "    for parameter_target, parameter_source in zip(target_model.parameters(), source_model.parameters()):\n",
    "        parameter_target.data.copy_((1 - tau) * parameter_target.data + tau * parameter_source.data)"
   ]
  },
  {
   "cell_type": "markdown",
   "metadata": {},
   "source": [
    "### Write a Replay class that includes all the functionality of a replay buffer\n",
    "DDPG is an off policy actor-critic method and an identical replay buffer to that used for the previous assignment is applicable here as well (do not include the generate_minibatch method in your Replay class this time). Like before, your constructor for Replay should create an initial buffer of size 1000 when you instantiate it.\n",
    "\n",
    "The replay buffer should kept to some maximum size (60000), allow adding of samples and returning of samples at random from the buffer. Each sample (or experience) is formed as (state, action, reward, next_state, done). "
   ]
  },
  {
   "cell_type": "code",
   "execution_count": 6,
   "metadata": {},
   "outputs": [],
   "source": [
    "class Replay():\n",
    "    def __init__(self):\n",
    "        self.capacity = 60000\n",
    "        self.memory = []\n",
    "        self.position = 0\n",
    "        self.gamma = 0.99\n",
    "\n",
    "    def initialize(self, init_length, envir):\n",
    "        st = envir.reset()\n",
    "        for _ in range(init_length):\n",
    "            a = envir.action_space.sample()\n",
    "            st1, r, done, info = envir.step(a)\n",
    "            # normalizing action \n",
    "            # [action_space.low, action_space.high] => [-1,1]\n",
    "            a = envir.reverse_action(a)\n",
    "            self.push((st, a, st1, r, done))\n",
    "            if done: st = envir.reset()\n",
    "            else : st = st1\n",
    "                \n",
    "    def push(self, transition):\n",
    "        if len(self.memory) < self.capacity:\n",
    "            self.memory.append(None)\n",
    "        self.memory[self.position] = transition\n",
    "        self.position = (self.position + 1) % self.capacity\n",
    "        \n",
    "    def generateMinibatch(self, batch_size):\n",
    "        batch_memory = random.sample(self.memory, batch_size) #return a list\n",
    "        batch_memory = list(zip(*batch_memory))\n",
    "        \n",
    "        batch_st = Variable(FloatTensor(batch_memory[0]))\n",
    "        batch_at = Variable(FloatTensor(batch_memory[1]))\n",
    "        batch_st1 = Variable(FloatTensor(batch_memory[2]))\n",
    "        batch_r = Variable(torch.unsqueeze(FloatTensor(batch_memory[3]),1))\n",
    "        batch_done = torch.unsqueeze(FloatTensor(batch_memory[4]),1)\n",
    "        \n",
    "        return batch_st, batch_at, batch_st1, batch_r, batch_done\n",
    "        \n",
    "    def __len__(self):            \n",
    "        return len(self.memory)\n"
   ]
  },
  {
   "cell_type": "markdown",
   "metadata": {},
   "source": [
    "### Write an Ornstein Uhlenbeck process class for exploration noise\n",
    "The proccess is described here:\n",
    "- https://en.wikipedia.org/wiki/Ornstein–Uhlenbeck_process\n",
    "- http://math.stackexchange.com/questions/1287634/implementing-ornstein-uhlenbeck-in-matlab\n",
    "\n",
    "You should implement:\n",
    "- a step / sample method\n",
    "- reset method\n",
    "\n",
    "Use theta = 0.15, mu = 0, sigma = 0.3, dt = 0.01"
   ]
  },
  {
   "cell_type": "code",
   "execution_count": 8,
   "metadata": {},
   "outputs": [],
   "source": [
    "class OrnsteinUhlenbeckProcess():\n",
    "#     def __init__(self, mu=np.zeros(act_dim), sigma=0.3, theta=.15, dimension=1e-2, x0=None,num_steps=12000):\n",
    "    # for inverted pendulum and pendulum above\n",
    "    def __init__(self, mu=np.zeros(act_dim), sigma=0.05, theta=.25, dimension=1e-2, x0=None,num_steps=12000):\n",
    "        self.theta = theta\n",
    "        self.mu = mu\n",
    "        self.sigma = sigma\n",
    "        self.dt = dimension\n",
    "        self.x0 = x0\n",
    "        self.reset()\n",
    "        \n",
    "    def step(self):\n",
    "        x = self.x_prev + self.theta * (self.mu - self.x_prev) * self.dt + \\\n",
    "                self.sigma * np.sqrt(self.dt) * np.random.normal(size=self.mu.shape)\n",
    "        self.x_prev = x\n",
    "        return x\n",
    "    \n",
    "    def reset(self):\n",
    "        self.x_prev = self.x0 if self.x0 is not None else np.zeros_like(self.mu)\n",
    "\n",
    "    def __repr__(self):\n",
    "        return 'OrnsteinUhlenbeckActionNoise(mu={}, sigma={})'.format(self.mu, self.sigma)\n",
    "    "
   ]
  },
  {
   "cell_type": "markdown",
   "metadata": {},
   "source": [
    "### Write a Deep Neural Network class that creates a dense network of a desired architecture for actor and critic networks\n",
    "\n",
    "\n",
    "#### Actor\n",
    "- input and hidden layer activation function: ReLU\n",
    "\n",
    "- output activation function: Tanh\n",
    "\n",
    "- hidden_state sizes: 400\n",
    "\n",
    "- state and action sizes: variable\n",
    "\n",
    "- number of hidden layers: 2\n",
    "\n",
    "- batch normalization applied to all hidden layers\n",
    "\n",
    "- weight initialization: normal distribution with small variance. \n",
    "\n",
    "#### Critic\n",
    "- input and hidden layer activation function: ReLU\n",
    "\n",
    "- output activation function: None\n",
    "\n",
    "- hidden_state sizes: 300, 300 + action size\n",
    "\n",
    "- state and action sizes: variable\n",
    "\n",
    "- number of hidden layers: 2\n",
    "\n",
    "- batch normalization applied to all hidden layers prior to the action input\n",
    "\n",
    "- weight initialization: normal distribution with small variance.\n",
    "\n",
    "Good baselines can be found in the paper."
   ]
  },
  {
   "cell_type": "code",
   "execution_count": 9,
   "metadata": {},
   "outputs": [],
   "source": [
    "# ----------------------------------------------------\n",
    "# actor model, MLP\n",
    "# ----------------------------------------------------\n",
    "# 2 hidden layers, 400 units per layer, tanh output to bound outputs between -1 and 1\n",
    "\n",
    "class actor(nn.Module):\n",
    "    def __init__(self, input_size, output_size):\n",
    "        super(actor, self).__init__()\n",
    "        self.fc1 = nn.Linear(input_size, 400)\n",
    "        self.bn1 = nn.BatchNorm1d(400) # batchnormalization\n",
    "        self.fc2 = nn.Linear(400, 400)\n",
    "        self.bn2 = nn.BatchNorm1d(400) # batchnormalization\n",
    "        self.fc3 = nn.Linear(400, output_size)\n",
    "        \n",
    "        # parameters initialization\n",
    "#         nn.init.xavier_normal_(self.fc1.weight)\n",
    "#         nn.init.xavier_normal_(self.fc2.weight)\n",
    "#         nn.init.xavier_normal_(self.fc3.weight)\n",
    "#         nn.init.normal_(self.fc1.bias)\n",
    "#         nn.init.normal_(self.fc2.bias)\n",
    "#         nn.init.normal_(self.fc3.bias)\n",
    "        \n",
    "    def forward(self, x):\n",
    "        x = F.relu(self.fc1(x))\n",
    "        x = self.bn1(x)  # turn off for inverted-pendulum -v1\n",
    "        x = F.relu(self.fc2(x))\n",
    "        x = self.bn2(x)  # turn off for inverted-pendulum -v1\n",
    "        \n",
    "        outputs = F.tanh(self.fc3(x))\n",
    "        return outputs\n",
    "\n",
    "\n",
    "# ----------------------------------------------------\n",
    "# critic model, MLP\n",
    "# ----------------------------------------------------\n",
    "# 2 hidden layers, 300 units per layer, ouputs rewards therefore unbounded\n",
    "# Action not to be included until 2nd layer of critic (from paper). Make sure to formulate your critic.forward() accordingly\n",
    "\n",
    "class critic(nn.Module):\n",
    "    def __init__(self, state_size, action_size, output_size):\n",
    "        super(critic, self).__init__()\n",
    "\n",
    "        self.fc1 = nn.Linear(state_size, 300)\n",
    "        self.bn1 = nn.BatchNorm1d(300) # batchnormalization\n",
    "        self.fc2 = nn.Linear(300 + action_size, 300)\n",
    "        self.fc3 = nn.Linear(300, output_size)\n",
    "\n",
    "        # parameters initialization\n",
    "#         nn.init.xavier_normal_(self.fc1.weight)\n",
    "#         nn.init.xavier_normal_(self.fc2.weight)\n",
    "#         nn.init.xavier_normal_(self.fc3.weight)\n",
    "#         nn.init.normal_(self.fc1.bias)\n",
    "#         nn.init.normal_(self.fc2.bias)\n",
    "#         nn.init.normal_(self.fc3.bias)\n",
    "    \n",
    "    def forward(self, states, actions):\n",
    "        x = F.relu(self.fc1(states))\n",
    "        x = self.bn1(x)  # turn off for inverted-pendulum -v1\n",
    "        x = torch.cat((x, actions), 1) # actions only join at second layer\n",
    "        x = F.relu(self.fc2(x))\n",
    "        \n",
    "        outputs = self.fc3(x)\n",
    "        return outputs\n",
    "\n"
   ]
  },
  {
   "cell_type": "markdown",
   "metadata": {},
   "source": [
    "### Define DDPG class to encapsulate definition, rollouts, and training\n",
    "\n",
    "- gamma = 0.99\n",
    "\n",
    "- actor_lr = 1e-4\n",
    "\n",
    "- critic_lr = 1e-3\n",
    "\n",
    "- critic l2 regularization = 1e-2\n",
    "\n",
    "- noise decay\n",
    "\n",
    "- noise class\n",
    "\n",
    "- batch_size = 128\n",
    "\n",
    "- optimizer: Adam\n",
    "\n",
    "- loss (critic): mse\n",
    "\n",
    "Furthermore, you can experiment with action versus parameter space noise. The standard implimentation works with action space noise, howeve parameter space noise has shown to produce excellent results.\n"
   ]
  },
  {
   "cell_type": "code",
   "execution_count": 10,
   "metadata": {},
   "outputs": [],
   "source": [
    "class DDPG:\n",
    "    def __init__(self, obs_dim, act_dim, critic_lr = 1e-3, actor_lr = 1e-4, gamma = GAMMA, batch_size = BATCH_SIZE):\n",
    "        self.gamma = GAMMA\n",
    "        self.batch_size = BATCH_SIZE\n",
    "        \n",
    "        # actor\n",
    "        self.actor = actor(input_size = obs_dim, output_size = act_dim).type(FloatTensor)\n",
    "        self.actor_target = actor(input_size = obs_dim, output_size = act_dim).type(FloatTensor)\n",
    "        self.actor_target.load_state_dict(self.actor.state_dict())\n",
    "\n",
    "        # critic\n",
    "        self.critic = critic(state_size = obs_dim, action_size = act_dim, output_size = 1).type(FloatTensor)\n",
    "        self.critic_target = critic(state_size = obs_dim, action_size = act_dim, output_size = 1).type(FloatTensor)\n",
    "        self.critic_target.load_state_dict(self.critic.state_dict())\n",
    "\n",
    "        # optimizers\n",
    "        self.optimizer_actor = torch.optim.Adam(self.actor.parameters(), lr = actor_lr)\n",
    "        self.optimizer_critic = torch.optim.Adam(self.critic.parameters(), lr = critic_lr, weight_decay=1e-2)\n",
    "        \n",
    "        # critic loss\n",
    "        self.critic_loss = nn.MSELoss()\n",
    "        \n",
    "        # noise\n",
    "        self.noise = OrnsteinUhlenbeckProcess(dimension = act_dim, num_steps = NUM_EPISODES)\n",
    "\n",
    "        # replay buffer \n",
    "        self.replayBuffer = Replay()\n",
    "        \n",
    "        \n",
    "    def train(self):\n",
    "        # sample from Replay\n",
    "        b_st, b_at, b_st1, b_r, b_d = self.replayBuffer.generateMinibatch(self.batch_size)\n",
    "\n",
    "        ## update critic (create target for Q function)       \n",
    "        # below is for target actor network\n",
    "        targetActorPredict_b_at1 = self.actor_target(b_st1)\n",
    "        \n",
    "        #below is for target critic network\n",
    "        mask = 1 - b_d   # if done is true, change the target to just reward\n",
    "        batch_Q_next = self.critic_target(b_st1, targetActorPredict_b_at1)\n",
    "        QQ_next = Variable((batch_Q_next.data * mask).view(self.batch_size, 1))\n",
    "        b_Q_critic_target = b_r + self.gamma*(QQ_next)\n",
    "        \n",
    "        \n",
    "        # below is for behavior critic network\n",
    "        b_Q_critic_behaviorQ = self.critic(b_st, b_at)\n",
    "        \n",
    "        ## critic optimizer and backprop step (feed in target and predicted values to self.critic_loss)\n",
    "        critic_loss = self.critic_loss(b_Q_critic_behaviorQ, b_Q_critic_target.detach())\n",
    "        self.optimizer_critic.zero_grad()\n",
    "        critic_loss.backward()\n",
    "        self.optimizer_critic.step()\n",
    "        \n",
    "        ## update actor (formulate the loss wrt which actor is updated)\n",
    "        # below is for behavior actor network\n",
    "        b_at_actor_behavior = self.actor(b_st)\n",
    "        # below is for behavior critic network\n",
    "        b_Q_critic_behaviorP = self.critic(b_st, b_at_actor_behavior)\n",
    "\n",
    "        ## actor optimizer and backprop step (loss_actor.backward())\n",
    "        loss_actor = -1. * b_Q_critic_behaviorP\n",
    "        loss_actor = loss_actor.mean()\n",
    "        \n",
    "        self.optimizer_actor.zero_grad()\n",
    "        loss_actor.backward()\n",
    "        self.optimizer_actor.step()\n",
    "\n",
    "        # sychronize target network with fast moving one\n",
    "        weightSync(self.critic_target, self.critic)\n",
    "        weightSync(self.actor_target, self.actor)\n",
    "        "
   ]
  },
  {
   "cell_type": "markdown",
   "metadata": {},
   "source": [
    "### Create an instance of your DDPG object\n",
    "- Print network architectures, confirm they are correct"
   ]
  },
  {
   "cell_type": "code",
   "execution_count": 11,
   "metadata": {
    "scrolled": true
   },
   "outputs": [
    {
     "name": "stdout",
     "output_type": "stream",
     "text": [
      "actor(\n",
      "  (fc1): Linear(in_features=17, out_features=400, bias=True)\n",
      "  (bn1): BatchNorm1d(400, eps=1e-05, momentum=0.1, affine=True, track_running_stats=True)\n",
      "  (fc2): Linear(in_features=400, out_features=400, bias=True)\n",
      "  (bn2): BatchNorm1d(400, eps=1e-05, momentum=0.1, affine=True, track_running_stats=True)\n",
      "  (fc3): Linear(in_features=400, out_features=6, bias=True)\n",
      ")\n",
      "critic(\n",
      "  (fc1): Linear(in_features=17, out_features=300, bias=True)\n",
      "  (bn1): BatchNorm1d(300, eps=1e-05, momentum=0.1, affine=True, track_running_stats=True)\n",
      "  (fc2): Linear(in_features=306, out_features=300, bias=True)\n",
      "  (fc3): Linear(in_features=300, out_features=1, bias=True)\n",
      ")\n"
     ]
    }
   ],
   "source": [
    "ddpg = DDPG(obs_dim = obs_dim, act_dim = act_dim)\n",
    "print(ddpg.actor)\n",
    "print(ddpg.critic)"
   ]
  },
  {
   "cell_type": "markdown",
   "metadata": {},
   "source": [
    "### Train DDPG on different environments\n",
    "Early stopping conditions:\n",
    "- avg_val > 500 for \"InvertedPendulum\" \n",
    "- avg_val > -150 for \"Pendulum\" \n",
    "- avg_val > 1500 for \"HalfCheetah\" \n",
    "\n"
   ]
  },
  {
   "cell_type": "code",
   "execution_count": 12,
   "metadata": {
    "scrolled": true
   },
   "outputs": [
    {
     "name": "stderr",
     "output_type": "stream",
     "text": [
      "[2018-05-15 18:16:02,781] Starting new video recorder writing to /datasets/home/85/185/chs140/ECE276C/PA3/DDPG/openaigym.video.0.3152.video000000.mp4\n",
      "[2018-05-15 18:16:02,784] GLFW error: 65544, desc: b'X11: RandR gamma ramp support seems broken'\n",
      "[2018-05-15 18:16:02,825] GLFW error: 65544, desc: b'Linux: Failed to watch for joystick connections in /dev/input: No such file or directory'\n",
      "[2018-05-15 18:16:02,826] GLFW error: 65544, desc: b'Linux: Failed to open joystick device directory /dev/input: No such file or directory'\n"
     ]
    },
    {
     "name": "stdout",
     "output_type": "stream",
     "text": [
      "Average value: -17.843247096416302 for episode: 0\n",
      "Average value: -36.08468524747259 for episode: 1\n",
      "Average value: -54.33420902731596 for episode: 2\n",
      "Average value: -71.70057412910461 for episode: 3\n",
      "Average value: -59.74418617579752 for episode: 4\n",
      "Average value: -62.580942535612834 for episode: 5\n",
      "Average value: -73.82833487779708 for episode: 6\n",
      "Average value: -81.68708376415621 for episode: 7\n",
      "Average value: -89.20755442592052 for episode: 8\n",
      "Average value: -97.05297431747917 for episode: 9\n",
      "Average value: -105.00531571765299 for episode: 10\n",
      "Average value: -112.9256708127256 for episode: 11\n",
      "Average value: -114.88980914193526 for episode: 12\n",
      "Average value: -113.91333299704293 for episode: 13\n",
      "Average value: -108.82201041270366 for episode: 14\n",
      "Average value: -102.4959228355163 for episode: 15\n",
      "Average value: -87.32240365216148 for episode: 16\n"
     ]
    },
    {
     "name": "stderr",
     "output_type": "stream",
     "text": [
      "[2018-05-15 18:20:02,707] Starting new video recorder writing to /datasets/home/85/185/chs140/ECE276C/PA3/DDPG/openaigym.video.0.3152.video000020.mp4\n"
     ]
    },
    {
     "name": "stdout",
     "output_type": "stream",
     "text": [
      "Average value: -82.14447466813796 for episode: 17\n",
      "Average value: -72.65859360094848 for episode: 18\n",
      "Average value: -62.916032997105276 for episode: 19\n",
      "Average value: -50.68419508170968 for episode: 20\n",
      "Average value: -23.730825868157385 for episode: 21\n",
      "Average value: 3.33701179927807 for episode: 22\n",
      "Average value: 37.51692646332775 for episode: 23\n",
      "Average value: 77.393253713093 for episode: 24\n",
      "Average value: 105.84814635585346 for episode: 25\n",
      "Average value: 153.6958216598512 for episode: 26\n",
      "Average value: 199.96461066785744 for episode: 27\n",
      "Average value: 235.49672492374873 for episode: 28\n",
      "Average value: 276.5310388019493 for episode: 29\n",
      "Average value: 327.32799303986496 for episode: 30\n",
      "Average value: 362.99732955705167 for episode: 31\n",
      "Average value: 408.6795544487022 for episode: 32\n",
      "Average value: 464.0515609979857 for episode: 33\n",
      "Average value: 518.8006462658099 for episode: 34\n",
      "Average value: 571.8692505307743 for episode: 35\n",
      "Average value: 625.817907880608 for episode: 36\n"
     ]
    },
    {
     "name": "stderr",
     "output_type": "stream",
     "text": [
      "[2018-05-15 18:23:11,418] Starting new video recorder writing to /datasets/home/85/185/chs140/ECE276C/PA3/DDPG/openaigym.video.0.3152.video000040.mp4\n"
     ]
    },
    {
     "name": "stdout",
     "output_type": "stream",
     "text": [
      "Average value: 671.2171233547612 for episode: 37\n",
      "Average value: 699.5765734889196 for episode: 38\n",
      "Average value: 741.2872792774488 for episode: 39\n",
      "Average value: 784.2766717970711 for episode: 40\n",
      "Average value: 757.9701989956791 for episode: 41\n",
      "Average value: 743.1667150743076 for episode: 42\n",
      "Average value: 731.5552601616956 for episode: 43\n",
      "Average value: 762.155545193832 for episode: 44\n",
      "Average value: 794.1670752052572 for episode: 45\n",
      "Average value: 833.5056208380971 for episode: 46\n",
      "Average value: 873.9512387038728 for episode: 47\n",
      "Average value: 890.4033359383803 for episode: 48\n",
      "Average value: 933.8845001740074 for episode: 49\n",
      "Average value: 977.3198761357222 for episode: 50\n",
      "Average value: 1011.761068478279 for episode: 51\n",
      "Average value: 1046.2865188527262 for episode: 52\n",
      "Average value: 1084.5085816534997 for episode: 53\n",
      "Average value: 1123.2315669012737 for episode: 54\n",
      "Average value: 1154.5983312170194 for episode: 55\n",
      "Average value: 1183.100673613629 for episode: 56\n"
     ]
    },
    {
     "name": "stderr",
     "output_type": "stream",
     "text": [
      "[2018-05-15 18:26:24,254] Starting new video recorder writing to /datasets/home/85/185/chs140/ECE276C/PA3/DDPG/openaigym.video.0.3152.video000060.mp4\n"
     ]
    },
    {
     "name": "stdout",
     "output_type": "stream",
     "text": [
      "Average value: 1213.4982745261248 for episode: 57\n",
      "Average value: 1246.1704659024365 for episode: 58\n",
      "Average value: 1276.568013502378 for episode: 59\n",
      "Average value: 1307.3044995795185 for episode: 60\n",
      "Average value: 1335.7459614607842 for episode: 61\n",
      "Average value: 1362.6491562446 for episode: 62\n",
      "Average value: 1389.2224576939045 for episode: 63\n",
      "Average value: 1423.4640086873464 for episode: 64\n",
      "Average value: 1455.8337191432397 for episode: 65\n",
      "Average value: 1479.3046715230057 for episode: 66\n",
      "Average value: 1506.4469132844429 for episode: 67\n",
      "Average value: 1533.1042491466683 for episode: 68\n",
      "Average value: 1560.0639126659487 for episode: 69\n",
      "Average value: 1579.5877185930685 for episode: 70\n",
      "Average value: 1602.220868005994 for episode: 71\n",
      "Average value: 1625.9271730181622 for episode: 72\n",
      "Average value: 1650.7482825115624 for episode: 73\n",
      "Average value: 1673.5260637469962 for episode: 74\n",
      "Average value: 1694.709390414398 for episode: 75\n",
      "Average value: 1713.271310457521 for episode: 76\n"
     ]
    },
    {
     "name": "stderr",
     "output_type": "stream",
     "text": [
      "[2018-05-15 18:29:38,795] Starting new video recorder writing to /datasets/home/85/185/chs140/ECE276C/PA3/DDPG/openaigym.video.0.3152.video000080.mp4\n"
     ]
    },
    {
     "name": "stdout",
     "output_type": "stream",
     "text": [
      "Average value: 1732.0232539771855 for episode: 77\n",
      "Average value: 1746.449897059003 for episode: 78\n",
      "Average value: 1766.8924265983137 for episode: 79\n",
      "Average value: 1791.1038966048711 for episode: 80\n",
      "Average value: 1800.5436560373835 for episode: 81\n",
      "Average value: 1823.7681636216178 for episode: 82\n",
      "Average value: 1845.3434709124267 for episode: 83\n",
      "Average value: 1860.894163645346 for episode: 84\n",
      "Average value: 1879.2853836295815 for episode: 85\n",
      "Average value: 1899.9127730848775 for episode: 86\n",
      "Average value: 1915.939940025595 for episode: 87\n",
      "Average value: 1943.2840037322642 for episode: 88\n",
      "Average value: 1952.1476900849407 for episode: 89\n",
      "Average value: 1949.8644110067514 for episode: 90\n",
      "Average value: 1970.982376402673 for episode: 91\n",
      "Average value: 1994.1006107290766 for episode: 92\n",
      "Average value: 2013.2643065128843 for episode: 93\n",
      "Average value: 2026.466342157543 for episode: 94\n",
      "Average value: 2043.7369095249148 for episode: 95\n",
      "Average value: 2054.986204252428 for episode: 96\n"
     ]
    },
    {
     "name": "stderr",
     "output_type": "stream",
     "text": [
      "[2018-05-15 18:32:50,700] Starting new video recorder writing to /datasets/home/85/185/chs140/ECE276C/PA3/DDPG/openaigym.video.0.3152.video000100.mp4\n"
     ]
    },
    {
     "name": "stdout",
     "output_type": "stream",
     "text": [
      "Average value: 2067.7772022385916 for episode: 97\n",
      "Average value: 2073.6238591946585 for episode: 98\n",
      "Average value: 2084.5534645084 for episode: 99\n",
      "Average value: 2086.6673680545146 for episode: 100\n",
      "Done\n"
     ]
    }
   ],
   "source": [
    "env = NormalizeAction(env) # remap action values for the environment\n",
    "avg_val = 0\n",
    "\n",
    "#for plotting\n",
    "running_rewards_ddpg = []\n",
    "step_list_ddpg = []\n",
    "step_counter = 0\n",
    "\n",
    "# set term_condition for early stopping according to environment being used\n",
    "# term_condition = -150 # Pendulum\n",
    "# term_condition = 500 # inverted pendulum\n",
    "term_condition = 1500 # halfcheetah \n",
    "ddpg.replayBuffer.initialize(1000, env)\n",
    "\n",
    "for itr in range(NUM_EPISODES):\n",
    "    state = env.reset() # get initial state\n",
    "    animate_this_episode = (itr % animate_interval == 0) and VISUALIZE\n",
    "    total_reward = 0\n",
    "    while True: # for each episode, we loop each step in this episode\n",
    "        ddpg.noise.reset()\n",
    "        if animate_this_episode:\n",
    "            env.render()\n",
    "            time.sleep(0.05)\n",
    "        # use actor to get action, add ddpg.noise.step() to action\n",
    "        # remember to put NN in eval mode while testing (to deal with BatchNorm layers) and put it back \n",
    "        # to train mode after you're done getting the action\n",
    "        var_state = Variable(torch.unsqueeze(FloatTensor(state),0), requires_grad=False)\n",
    "        ddpg.actor.eval()\n",
    "        cuda_tensor_action = ddpg.actor(var_state)\n",
    "        ddpg.actor.train()\n",
    "        \n",
    "        action = cuda_tensor_action.data[0].cpu().numpy()\n",
    "        action = action + ddpg.noise.step()\n",
    "        # below already include [-1,1] => [action_space.low, action_space.high]\n",
    "        new_state, reward, done, _ = env.step(action) \n",
    "        total_reward += reward\n",
    "        \n",
    "        ddpg.replayBuffer.push((state, action, new_state, reward, done))\n",
    "        # step action, get next state, reward, done (keep track of total_reward)\n",
    "        # populate ddpg.replayBuffer\n",
    "        ddpg.train() ###################### update network (per step) in one episode\n",
    "        step_counter += 1\n",
    "        state = new_state\n",
    "        if done: break\n",
    "\n",
    "    if avg_val > term_condition and itr >100 : break\n",
    "\n",
    "    running_rewards_ddpg.append(total_reward) # return of this episode\n",
    "    step_list_ddpg.append(step_counter)\n",
    "\n",
    "    avg_val = avg_val * 0.95 + 0.05*running_rewards_ddpg[-1]\n",
    "    print(\"Average value: {} for episode: {}\".format(avg_val,itr))\n",
    "    \n",
    "print('Done')"
   ]
  },
  {
   "cell_type": "markdown",
   "metadata": {},
   "source": [
    "## Plot rewards over multiple training runs \n",
    "This is provided to generate and plot results for you."
   ]
  },
  {
   "cell_type": "code",
   "execution_count": 15,
   "metadata": {
    "scrolled": true
   },
   "outputs": [],
   "source": [
    "def numpy_ewma_vectorized_v2(data, window):\n",
    "    alpha = 2 /(window + 1.0)\n",
    "    alpha_rev = 1-alpha\n",
    "    n = data.shape[0]\n",
    "\n",
    "    pows = alpha_rev**(np.arange(n+1))\n",
    "\n",
    "    scale_arr = 1/pows[:-1]\n",
    "    offset = data[0]*pows[1:]\n",
    "    pw0 = alpha*alpha_rev**(n-1)\n",
    "\n",
    "    mult = data*pw0*scale_arr\n",
    "    cumsums = mult.cumsum()\n",
    "    out = offset + cumsums*scale_arr[::-1]\n",
    "    return out"
   ]
  },
  {
   "cell_type": "markdown",
   "metadata": {},
   "source": [
    "# DDPG Inverted-Pendulum-v1"
   ]
  },
  {
   "cell_type": "code",
   "execution_count": 13,
   "metadata": {},
   "outputs": [],
   "source": [
    "np.save('ddpg_inverted_pendulum_reward.npy', running_rewards_ddpg)\n",
    "np.save('ddpg_inverted_pendulum_step.npy', step_list_ddpg)"
   ]
  },
  {
   "cell_type": "code",
   "execution_count": 14,
   "metadata": {
    "scrolled": false
   },
   "outputs": [
    {
     "data": {
      "image/png": "[encoded data removed]",
      "text/plain": [
       "<Figure size 432x288 with 1 Axes>"
      ]
     },
     "metadata": {},
     "output_type": "display_data"
    }
   ],
   "source": [
    "plt.figure()\n",
    "out = numpy_ewma_vectorized_v2(np.array(running_rewards_ddpg),20)\n",
    "step_list_ddpg = np.array(step_list_ddpg)\n",
    "plt.plot(step_list_ddpg, out)\n",
    "plt.title('Training reward over multiple runs')\n",
    "plt.xlabel('Number of steps')\n",
    "plt.ylabel('Cumulative reward')\n",
    "plt.show()"
   ]
  },
  {
   "cell_type": "code",
   "execution_count": 19,
   "metadata": {},
   "outputs": [
    {
     "name": "stdout",
     "output_type": "stream",
     "text": [
      "done\n"
     ]
    }
   ],
   "source": [
    "# env = NormalizeAction(env) # remap action values for the environment\n",
    "state = env.reset() # get initial state\n",
    "while True: # for each episode, we loop each step in this episode\n",
    "    ddpg.noise.reset()\n",
    "    env.render()\n",
    "    time.sleep(0.05)\n",
    "    # use actor to get action, add ddpg.noise.step() to action\n",
    "    # remember to put NN in eval mode while testing (to deal with BatchNorm layers) and put it back \n",
    "    # to train mode after you're done getting the action\n",
    "    var_state = Variable(torch.unsqueeze(FloatTensor(state),0), requires_grad=False)\n",
    "    \n",
    "    ddpg.actor.eval()\n",
    "    cuda_tensor_action = ddpg.actor(var_state)\n",
    "    action = cuda_tensor_action.data[0].cpu().numpy()\n",
    "    action = action + ddpg.noise.step()\n",
    "    # below already include [-1,1] => [action_space.low, action_space.high]\n",
    "    new_state, reward, done, _ = env.step(action) \n",
    "    # step action, get next state, reward, done (keep track of total_reward)\n",
    "    # populate ddpg.replayBuffer\n",
    "    state = new_state\n",
    "    if done: break\n",
    "\n",
    "print('done')"
   ]
  },
  {
   "cell_type": "markdown",
   "metadata": {},
   "source": [
    "# DDPG Pendulum-v0"
   ]
  },
  {
   "cell_type": "code",
   "execution_count": 14,
   "metadata": {},
   "outputs": [],
   "source": [
    "np.save('ddpg_pendulum_reward.npy', running_rewards_ddpg)\n",
    "np.save('ddpg_pendulum_step.npy', step_list_ddpg)"
   ]
  },
  {
   "cell_type": "code",
   "execution_count": 16,
   "metadata": {},
   "outputs": [
    {
     "data": {
      "image/png": "[encoded data removed]",
      "text/plain": [
       "<Figure size 432x288 with 1 Axes>"
      ]
     },
     "metadata": {},
     "output_type": "display_data"
    }
   ],
   "source": [
    "plt.figure()\n",
    "out = numpy_ewma_vectorized_v2(np.array(running_rewards_ddpg),20)\n",
    "step_list_ddpg = np.array(step_list_ddpg)\n",
    "plt.plot(step_list_ddpg, out)\n",
    "plt.title('Training reward over multiple runs')\n",
    "plt.xlabel('Number of steps')\n",
    "plt.ylabel('Cumulative reward')\n",
    "plt.show()"
   ]
  },
  {
   "cell_type": "code",
   "execution_count": 19,
   "metadata": {},
   "outputs": [
    {
     "name": "stdout",
     "output_type": "stream",
     "text": [
      "done\n"
     ]
    }
   ],
   "source": [
    "# env = NormalizeAction(env) # remap action values for the environment\n",
    "state = env.reset() # get initial state\n",
    "while True: # for each episode, we loop each step in this episode\n",
    "    ddpg.noise.reset()\n",
    "    env.render()\n",
    "    time.sleep(0.05)\n",
    "    # use actor to get action, add ddpg.noise.step() to action\n",
    "    # remember to put NN in eval mode while testing (to deal with BatchNorm layers) and put it back \n",
    "    # to train mode after you're done getting the action\n",
    "    var_state = Variable(torch.unsqueeze(FloatTensor(state),0), requires_grad=False)\n",
    "    \n",
    "    ddpg.actor.eval()\n",
    "    cuda_tensor_action = ddpg.actor(var_state)\n",
    "    action = cuda_tensor_action.data[0].cpu().numpy()\n",
    "    action = action + ddpg.noise.step()\n",
    "    # below already include [-1,1] => [action_space.low, action_space.high]\n",
    "    new_state, reward, done, _ = env.step(action) \n",
    "    # step action, get next state, reward, done (keep track of total_reward)\n",
    "    # populate ddpg.replayBuffer\n",
    "    state = new_state\n",
    "    if done: break\n",
    "\n",
    "print('done')"
   ]
  },
  {
   "cell_type": "markdown",
   "metadata": {},
   "source": [
    "# DDPG HalfCheetah-v1"
   ]
  },
  {
   "cell_type": "code",
   "execution_count": 13,
   "metadata": {},
   "outputs": [],
   "source": [
    "np.save('ddpg_halfcheetah_reward.npy', running_rewards_ddpg)\n",
    "np.save('ddpg_halfcheetah_step.npy', step_list_ddpg)"
   ]
  },
  {
   "cell_type": "code",
   "execution_count": 16,
   "metadata": {},
   "outputs": [
    {
     "data": {
      "image/png": "[encoded data removed]",
      "text/plain": [
       "<Figure size 432x288 with 1 Axes>"
      ]
     },
     "metadata": {},
     "output_type": "display_data"
    }
   ],
   "source": [
    "plt.figure()\n",
    "out = numpy_ewma_vectorized_v2(np.array(running_rewards_ddpg),20)\n",
    "step_list_ddpg = np.array(step_list_ddpg)\n",
    "plt.plot(step_list_ddpg, out)\n",
    "plt.title('Training reward over multiple runs')\n",
    "plt.xlabel('Number of steps')\n",
    "plt.ylabel('Cumulative reward')\n",
    "plt.show()"
   ]
  },
  {
   "cell_type": "code",
   "execution_count": null,
   "metadata": {},
   "outputs": [],
   "source": [
    "\n",
    "# env = NormalizeAction(env) # remap action values for the environment\n",
    "state = env.reset() # get initial state\n",
    "while True: # for each episode, we loop each step in this episode\n",
    "    ddpg.noise.reset()\n",
    "    env.render()\n",
    "    time.sleep(0.05)\n",
    "    # use actor to get action, add ddpg.noise.step() to action\n",
    "    # remember to put NN in eval mode while testing (to deal with BatchNorm layers) and put it back \n",
    "    # to train mode after you're done getting the action\n",
    "    var_state = Variable(torch.unsqueeze(FloatTensor(state),0), requires_grad=False)\n",
    "    \n",
    "    ddpg.actor.eval()\n",
    "    cuda_tensor_action = ddpg.actor(var_state)\n",
    "    action = cuda_tensor_action.data[0].cpu().numpy()\n",
    "    action = action + ddpg.noise.step()\n",
    "    # below already include [-1,1] => [action_space.low, action_space.high]\n",
    "    new_state, reward, done, _ = env.step(action) \n",
    "    # step action, get next state, reward, done (keep track of total_reward)\n",
    "    # populate ddpg.replayBuffer\n",
    "    state = new_state\n",
    "    if done: break\n",
    "\n",
    "print('done')"
   ]
  },
  {
   "cell_type": "markdown",
   "metadata": {},
   "source": [
    "# REINFORCE\n",
    "\n",
    "In this section you will implement REINFORCE, with modifications for batch training. It will be for use on both discrete and continous action spaces."
   ]
  },
  {
   "cell_type": "markdown",
   "metadata": {},
   "source": [
    "## Policy Parametrization\n",
    "\n",
    "Define a MLP which outputs a distribution over the action preferences given input state. For the discrete case, the MLP outputs the likelihood of each action (softmax) while for the continuous case, the output is the mean and standard deviation parametrizing the normal distribution from which the action is sampled.\n",
    "\n"
   ]
  },
  {
   "cell_type": "code",
   "execution_count": 3,
   "metadata": {},
   "outputs": [],
   "source": [
    "# ----------------------------------------------------\n",
    "# Policy parametrizing model, MLP\n",
    "# ----------------------------------------------------\n",
    "# 1 or 2 hidden layers with a small number of units per layer (similar to DQN)\n",
    "# use ReLU for hidden layer activations\n",
    "# softmax as activation for output if discrete actions, linear for continuous control\n",
    "# for the continuous case, output_dim=2*act_dim (each act_dim gets a mean and std_dev)\n",
    "\n",
    "class mlp(nn.Module):\n",
    "    # For discrete, it is the number of actions for outputs\n",
    "    # For continuous, it is the dimension of action\n",
    "    def __init__(self, Dim_state, num_outputs, disct):\n",
    "        super(mlp, self).__init__()\n",
    "        self.disct = disct\n",
    "        if self.disct == True:\n",
    "            self.fc1 = nn.Linear(Dim_state, 50)\n",
    "            self.fc2 = nn.Linear(50, 50)\n",
    "            self.fc3 = nn.Linear(50, num_outputs)\n",
    "            # parameters initialization\n",
    "#             nn.init.xavier_normal_(self.fc1.weight)\n",
    "#             nn.init.xavier_normal_(self.fc2.weight)\n",
    "#             nn.init.xavier_normal_(self.fc3.weight)\n",
    "#             nn.init.normal_(self.fc1.bias)\n",
    "#             nn.init.normal_(self.fc2.bias)\n",
    "#             nn.init.normal_(self.fc3.bias)\n",
    "            \n",
    "        else:\n",
    "            self.fc1 = nn.Linear(Dim_state, 50)\n",
    "            self.fc2 = nn.Linear(50, 50)\n",
    "            self.fc_mu = nn.Linear(50, num_outputs)\n",
    "            self.fc_sigma = nn.Linear(50, num_outputs)\n",
    "\n",
    "            \n",
    "            # parameters initialization\n",
    "#             nn.init.xavier_normal_(self.fc1.weight)\n",
    "#             nn.init.xavier_normal_(self.fc2.weight)\n",
    "            \n",
    "#             nn.init.xavier_normal_(self.fc_mu.weight)\n",
    "#             nn.init.xavier_normal_(self.fc_sigma.weight)\n",
    "            \n",
    "#             nn.init.normal_(self.fc1.bias)\n",
    "#             nn.init.normal_(self.fc2.bias)\n",
    "            \n",
    "#             nn.init.normal_(self.fc_mu.bias)\n",
    "#             nn.init.normal_(self.fc_sigma.bias)\n",
    "            \n",
    "        \n",
    "    def forward(self, x):\n",
    "        if self.disct == True:\n",
    "            x = F.relu(self.fc1(x))\n",
    "            x = F.relu(self.fc2(x))\n",
    "            x = self.fc3(x)\n",
    "            actions_prob = F.softmax(x, dim=1)\n",
    "            return actions_prob\n",
    "        else: \n",
    "            x = F.relu(self.fc1(x))\n",
    "            x = F.relu(self.fc2(x))\n",
    "            \n",
    "            mu = self.fc_mu(x)\n",
    "            sigma = self.fc_sigma(x)\n",
    "            return [mu, sigma]"
   ]
  },
  {
   "cell_type": "markdown",
   "metadata": {},
   "source": [
    "Define a function that samples an action from the policy distribtion parameters obtained as output of the MLP. The function should return the action and the log-probability (log_odds) of taking that action. "
   ]
  },
  {
   "cell_type": "code",
   "execution_count": 4,
   "metadata": {},
   "outputs": [],
   "source": [
    "def sample_action(logit, disct):\n",
    "    # logit is the output of the softmax/linear layer\n",
    "    # discrete is a flag for the environment type\n",
    "    # Hint: use Categorical and Normal from torch.distributions to sample action and get the log-probability\n",
    "    # Note that log_probability in this case translates to ln(\\pi(a|s)) \n",
    "    if disct == True:\n",
    "        action_distribution=torch.distributions.Categorical(logit)\n",
    "        action = action_distribution.sample()\n",
    "        log_odds = action_distribution.log_prob(action)\n",
    "        \n",
    "    else : # continuous \n",
    "        mean = logit[0]\n",
    "        cov = F.softplus(logit[1])\n",
    "        action_distribution = torch.distributions.normal.Normal(mean, cov)\n",
    "        action = action_distribution.sample()\n",
    "        log_odds = action_distribution.log_prob(action)\n",
    "    return action, log_odds\n"
   ]
  },
  {
   "cell_type": "markdown",
   "metadata": {},
   "source": [
    "Create a function update_policy that defines the loss function and updates the MLP according to the REINFORCE update rule (ref. slide 24 of Lec 7 or page 330 of Sutton and Barto (2018)). The update algorithm to be used below is slightly different: instead of updating the network at every time-step, we take the gradient of the loss averaged over a batch of timesteps (this is to make SGD more stable). We also use a baseline to reduce variance. \n",
    "\n",
    "The discount factor is set as 1 here. \n"
   ]
  },
  {
   "cell_type": "code",
   "execution_count": 5,
   "metadata": {},
   "outputs": [],
   "source": [
    "def reward2go(rewards, gamma =1):\n",
    "    r2g = []\n",
    "    acc_r = 0\n",
    "    for r in reversed(rewards):\n",
    "        acc_r = acc_r * gamma + r\n",
    "        r2g.append(acc_r)\n",
    "    return r2g[::-1]\n",
    "\n",
    "\n",
    "def update_policy(paths, net):\n",
    "    # paths: a list of paths (complete episodes, used to calculate return at each time step)\n",
    "    # net: MLP object\n",
    "    \n",
    "    num_paths = len(paths)\n",
    "    rew_cums = []\n",
    "    log_odds = []\n",
    "    # calculated as \"reward to go\"\n",
    "    \n",
    "    for path in paths:\n",
    "        # rew_cums should record return at each time step for each path\n",
    "        rew_cums += reward2go(path['reward'])\n",
    "        # log_odds should record log_odds obtained at each timestep of path\n",
    "        log_odds += path['log_odds']\n",
    "        # calculated as \"reward to go\" \n",
    "\n",
    "    # make log_odds, rew_cums each a vector\n",
    "    rew_cums = np.array(rew_cums)\n",
    "    log_odds = np.array(log_odds)\n",
    "    rew_cums = (rew_cums - rew_cums.mean()) / (rew_cums.std() + 1e-5) # create baseline\n",
    "    # calculate policy loss and average over paths\n",
    "    policy_loss = -rew_cums.dot(log_odds)/ num_paths\n",
    "    \n",
    "    # take optimizer step\n",
    "    optimizer.zero_grad()\n",
    "    policy_loss.sum().backward()  # sum for cheetah, or may delete this sum for other env\n",
    "    optimizer.step() "
   ]
  },
  {
   "cell_type": "markdown",
   "metadata": {},
   "source": [
    "Set up environment and instantiate objects. Your algorithm is to be tested on one discrete and two continuous environments. \n",
    "\n"
   ]
  },
  {
   "cell_type": "code",
   "execution_count": 6,
   "metadata": {},
   "outputs": [
    {
     "name": "stderr",
     "output_type": "stream",
     "text": [
      "[2018-05-15 14:26:39,297] Making new env: HalfCheetah-v1\n",
      "[2018-05-15 14:26:39,630] Finished writing results. You can upload them to the scoreboard via gym.upload('/datasets/home/85/185/chs140/ECE276C/PA3/DDPG')\n"
     ]
    },
    {
     "name": "stdout",
     "output_type": "stream",
     "text": [
      "mlp(\n",
      "  (fc1): Linear(in_features=17, out_features=50, bias=True)\n",
      "  (fc2): Linear(in_features=50, out_features=50, bias=True)\n",
      "  (fc_mu): Linear(in_features=50, out_features=6, bias=True)\n",
      "  (fc_sigma): Linear(in_features=50, out_features=6, bias=True)\n",
      ")\n"
     ]
    }
   ],
   "source": [
    "use_cuda = torch.cuda.is_available()\n",
    "FloatTensor = torch.cuda.FloatTensor if use_cuda else torch.FloatTensor\n",
    "LongTensor = torch.cuda.LongTensor if use_cuda else torch.LongTensor\n",
    "ByteTensor = torch.cuda.ByteTensor if use_cuda else torch.ByteTensor\n",
    "Tensor = FloatTensor\n",
    "\n",
    "# Select Environment\n",
    "\n",
    "######discrete environment:\n",
    "# env_name='CartPole-v0'\n",
    "\n",
    "######continous environments:\n",
    "# env_name='InvertedPendulum-v1'\n",
    "env_name = 'HalfCheetah-v1'\n",
    "\n",
    "\n",
    "# Make the gym environment\n",
    "env = gym.make(env_name)\n",
    "visualize = False\n",
    "# animate=visualize\n",
    "learning_rate = 1e-3\n",
    "\n",
    "max_path_length=None\n",
    "min_timesteps_per_batch = 2000  # sets the batch size for updating network\n",
    "\n",
    "# Set random seeds\n",
    "seed=0\n",
    "torch.manual_seed(seed)\n",
    "np.random.seed(seed)\n",
    "\n",
    "\n",
    "# Saving parameters\n",
    "logdir='./REINFORCE/'\n",
    "\n",
    "if visualize:\n",
    "    if not os.path.exists(logdir):\n",
    "        os.mkdir(logdir)\n",
    "    env = gym.wrappers.Monitor(env, logdir, force=True, video_callable=lambda episode_id: episode_id%animate_interval==0)\n",
    "\n",
    "env._max_episodes_steps = min_timesteps_per_batch\n",
    "\n",
    "\n",
    "# Is this env continuous, or discrete?\n",
    "discrete = isinstance(env.action_space, gym.spaces.Discrete)\n",
    "\n",
    "\n",
    "# Get observation and action space dimensions\n",
    "obs_dim = env.observation_space.shape[0]\n",
    "act_dim = env.action_space.n if discrete else env.action_space.shape[0]\n",
    "\n",
    "# Maximum length for episodes\n",
    "max_path_length = max_path_length or env.spec.max_episode_steps\n",
    "\n",
    "# Make network object (remember to pass in appropriate flags for the type of action space in use)\n",
    "# net = mlp(*args)\n",
    "net = mlp(Dim_state = obs_dim, num_outputs = act_dim, disct = discrete).type(FloatTensor)\n",
    "\n",
    "# Make optimizer\n",
    "optimizer = torch.optim.Adam(net.parameters(), lr = learning_rate)\n",
    "print(net)"
   ]
  },
  {
   "cell_type": "markdown",
   "metadata": {},
   "source": [
    "## Run REINFORCE\n",
    "\n",
    "Run REINFORCE for CartPole, InvertedPendulum, and HalfCheetah. "
   ]
  },
  {
   "cell_type": "code",
   "execution_count": 7,
   "metadata": {
    "scrolled": true
   },
   "outputs": [
    {
     "name": "stdout",
     "output_type": "stream",
     "text": [
      "Average reward: -631.3082183173344\n",
      "Average reward: -619.8083439120957\n",
      "Average reward: -479.22020007268867\n",
      "Average reward: -535.6534700193245\n",
      "Average reward: -483.31511565534953\n",
      "Average reward: -700.0253135620237\n",
      "Average reward: -539.8485582303404\n",
      "Average reward: -486.3342675842881\n",
      "Average reward: -573.6608333884494\n",
      "Average reward: -762.6001722762232\n",
      "done.59865768538844\n"
     ]
    }
   ],
   "source": [
    "n_iter = 1000 \n",
    "min_timesteps_per_batch = 2000  # sets the batch size for updating network\n",
    "avg_reward = 0\n",
    "avg_rewards = []\n",
    "step_list_reinforce = []\n",
    "total_steps = 0\n",
    "episodes = 0\n",
    "\n",
    "for itr in range(n_iter): # loop for number of optimization steps\n",
    "    paths = []\n",
    "    steps = 0\n",
    "    while True: # loop to get enough timesteps in this batch --> if episode ends this loop will restart till steps reaches limit\n",
    "        ob = env.reset()   \n",
    "        animate_this_episode = (itr % animate_interval == 0) and visualize\n",
    "        obs, acs, rews, log_odds = [], [], [], [] \n",
    "        obs.append(ob)\n",
    "\n",
    "        while True: # loop for episode inside batch\n",
    "            if animate_this_episode:\n",
    "                env.render()\n",
    "                time.sleep(0.05)\n",
    "            # get parametrized policy distribution from net using current state ob\n",
    "            net.eval()\n",
    "            var_ob = Variable(torch.unsqueeze(FloatTensor(ob),0), requires_grad=False)\n",
    "            distribution_parameters = net(var_ob)\n",
    "            \n",
    "            net.train()\n",
    "            # sample action and get log-probability (log_odds) from distribution\n",
    "            cuda_tensor_ac, log_odd= sample_action(logit = distribution_parameters , disct = discrete)\n",
    "            ac = cuda_tensor_ac.data[0].cpu().numpy()\n",
    "            \n",
    "            # step environment, record reward, next state\n",
    "            ob, rew, done, _ = env.step(ac)\n",
    "            # append to obs, acs, rewards, log_odds\n",
    "            obs.append(ob)\n",
    "            acs.append(ac)\n",
    "            rews.append(rew)\n",
    "            log_odds.append(log_odd)\n",
    "            \n",
    "            # if done, restart episode till min_timesteps_per_batch is reached     \n",
    "            steps += 1\n",
    "            \n",
    "            if done:\n",
    "                episodes = episodes + 1\n",
    "                break\n",
    "                \n",
    "        path = {\"observation\" : obs, \n",
    "                \"reward\" : np.array(rews), \n",
    "                \"action\" : (acs),\n",
    "                \"log_odds\" : log_odds}\n",
    "        \n",
    "        paths.append(path)\n",
    "        if steps > min_timesteps_per_batch: break \n",
    "\n",
    "    update_policy(paths, net)  # use all complete episodes (a batch of timesteps) recorded in this itr to update net\n",
    "    if itr == 0: avg_reward = path['reward'].sum()\n",
    "        \n",
    "    else: avg_reward = avg_reward * 0.95 + 0.05 * path['reward'].sum()\n",
    "        \n",
    "    if avg_reward > 1500: break\n",
    "    # inverted 500, half_cheetah 1500, cartpole 200\n",
    "    total_steps += steps\n",
    "    print(avg_reward,end='\\r')\n",
    "    avg_rewards.append(avg_reward)\n",
    "    step_list_reinforce.append(total_steps)\n",
    "    if itr % logging_interval == 0: print('Average reward: {}'.format(avg_reward))   \n",
    "        \n",
    "env.close()\n",
    "print('done')\n"
   ]
  },
  {
   "cell_type": "markdown",
   "metadata": {},
   "source": [
    "# Reinforce CartPole-v0"
   ]
  },
  {
   "cell_type": "code",
   "execution_count": 22,
   "metadata": {},
   "outputs": [],
   "source": [
    "np.save('reinforce_cartpole_reward.npy', avg_rewards)\n",
    "np.save('reinforce_cartpole_step.npy', step_list_reinforce)"
   ]
  },
  {
   "cell_type": "code",
   "execution_count": 14,
   "metadata": {},
   "outputs": [
    {
     "data": {
      "text/plain": [
       "Text(0,0.5,'Average reward')"
      ]
     },
     "execution_count": 14,
     "metadata": {},
     "output_type": "execute_result"
    },
    {
     "data": {
      "image/png": "[encoded data removed]",
      "text/plain": [
       "<Figure size 432x288 with 1 Axes>"
      ]
     },
     "metadata": {},
     "output_type": "display_data"
    }
   ],
   "source": [
    "plt.plot(avg_rewards)\n",
    "plt.title('Training reward for <Reinforce CartPole-v0> over multiple runs ')\n",
    "plt.xlabel('Iteration')\n",
    "plt.ylabel('Average reward')"
   ]
  },
  {
   "cell_type": "code",
   "execution_count": 19,
   "metadata": {},
   "outputs": [
    {
     "name": "stderr",
     "output_type": "stream",
     "text": [
      "[2018-05-15 10:00:46,789] Making new env: CartPole-v0\n",
      "[2018-05-15 10:00:46,795] Clearing 2 monitor files from previous run (because force=True was provided)\n"
     ]
    }
   ],
   "source": [
    "env_name='CartPole-v0'\n",
    "\n",
    "# Make the gym environment\n",
    "env = gym.make(env_name)\n",
    "visualize = True\n",
    "animate=visualize\n",
    "learning_rate = 1e-3\n",
    "\n",
    "max_path_length=None\n",
    "min_timesteps_per_batch = 2000  # sets the batch size for updating network\n",
    "\n",
    "# Set random seeds\n",
    "seed=0\n",
    "torch.manual_seed(seed)\n",
    "np.random.seed(seed)\n",
    "\n",
    "use_cuda = torch.cuda.is_available()\n",
    "FloatTensor = torch.cuda.FloatTensor if use_cuda else torch.FloatTensor\n",
    "LongTensor = torch.cuda.LongTensor if use_cuda else torch.LongTensor\n",
    "ByteTensor = torch.cuda.ByteTensor if use_cuda else torch.ByteTensor\n",
    "Tensor = FloatTensor\n",
    "\n",
    "# Saving parameters\n",
    "logdir='./REINFORCE/'\n",
    "\n",
    "if visualize:\n",
    "    if not os.path.exists(logdir):\n",
    "        os.mkdir(logdir)\n",
    "    env = gym.wrappers.Monitor(env, logdir, force=True, video_callable=lambda episode_id: episode_id%animate_interval==0)\n",
    "\n",
    "env._max_episodes_steps = min_timesteps_per_batch\n",
    "\n",
    "\n",
    "# Is this env continuous, or discrete?\n",
    "discrete = isinstance(env.action_space, gym.spaces.Discrete)\n",
    "\n",
    "# Get observation and action space dimensions\n",
    "obs_dim = env.observation_space.shape[0]\n",
    "act_dim = env.action_space.n if discrete else env.action_space.shape[0]\n",
    "\n",
    "# Maximum length for episodes\n",
    "max_path_length = max_path_length or env.spec.max_episode_steps"
   ]
  },
  {
   "cell_type": "code",
   "execution_count": 21,
   "metadata": {},
   "outputs": [
    {
     "name": "stdout",
     "output_type": "stream",
     "text": [
      "done\n"
     ]
    }
   ],
   "source": [
    "########### for saving optimal model video\n",
    "\n",
    "ob = env.reset() \n",
    "while True:\n",
    "    env.render()\n",
    "    time.sleep(0.05)\n",
    "    # get parametrized policy distribution from net using current state ob\n",
    "    net.eval()\n",
    "    var_ob = Variable(torch.unsqueeze(FloatTensor(ob),0), requires_grad=False)\n",
    "    distribution_parameters = net(var_ob)\n",
    "    # sample action and get log-probability (log_odds) from distribution\n",
    "    cuda_tensor_ac, log_odd= sample_action(logit = distribution_parameters , disct = discrete)\n",
    "    ac = cuda_tensor_ac.data[0].cpu().numpy()\n",
    "    # step environment, record reward, next state\n",
    "    new_ob, rew, done, _ = env.step(ac)\n",
    "    ob = new_ob\n",
    "    if done: break\n",
    "print('done')"
   ]
  },
  {
   "cell_type": "markdown",
   "metadata": {},
   "source": [
    "# Reinforce Inverted Pendulum-v1"
   ]
  },
  {
   "cell_type": "code",
   "execution_count": 39,
   "metadata": {},
   "outputs": [],
   "source": [
    "np.save('reinforce_inverted_pendulum_reward.npy', avg_rewards)\n",
    "np.save('reinforce_inverted_pendulum_step.npy', step_list_reinforce)"
   ]
  },
  {
   "cell_type": "code",
   "execution_count": 12,
   "metadata": {},
   "outputs": [
    {
     "data": {
      "text/plain": [
       "Text(0,0.5,'Average reward')"
      ]
     },
     "execution_count": 12,
     "metadata": {},
     "output_type": "execute_result"
    },
    {
     "data": {
      "image/png": "[encoded data removed]",
      "text/plain": [
       "<Figure size 432x288 with 1 Axes>"
      ]
     },
     "metadata": {},
     "output_type": "display_data"
    }
   ],
   "source": [
    "plt.plot(avg_rewards)\n",
    "plt.title('Training reward for <Reinforce Inverted Pendulum-v1> over multiple runs ')\n",
    "plt.xlabel('Iteration')\n",
    "plt.ylabel('Average reward')"
   ]
  },
  {
   "cell_type": "code",
   "execution_count": 41,
   "metadata": {},
   "outputs": [
    {
     "name": "stderr",
     "output_type": "stream",
     "text": [
      "[2018-05-15 10:17:45,697] Making new env: InvertedPendulum-v1\n",
      "[2018-05-15 10:17:45,705] Clearing 6 monitor files from previous run (because force=True was provided)\n"
     ]
    }
   ],
   "source": [
    "env_name='InvertedPendulum-v1'\n",
    "\n",
    "# Make the gym environment\n",
    "env = gym.make(env_name)\n",
    "visualize = True\n",
    "animate=visualize\n",
    "learning_rate = 1e-3\n",
    "\n",
    "max_path_length=None\n",
    "min_timesteps_per_batch = 2000  # sets the batch size for updating network\n",
    "\n",
    "# Set random seeds\n",
    "seed=0\n",
    "torch.manual_seed(seed)\n",
    "np.random.seed(seed)\n",
    "\n",
    "use_cuda = torch.cuda.is_available()\n",
    "FloatTensor = torch.cuda.FloatTensor if use_cuda else torch.FloatTensor\n",
    "LongTensor = torch.cuda.LongTensor if use_cuda else torch.LongTensor\n",
    "ByteTensor = torch.cuda.ByteTensor if use_cuda else torch.ByteTensor\n",
    "Tensor = FloatTensor\n",
    "\n",
    "# Saving parameters\n",
    "logdir='./REINFORCE/'\n",
    "\n",
    "if visualize:\n",
    "    if not os.path.exists(logdir):\n",
    "        os.mkdir(logdir)\n",
    "    env = gym.wrappers.Monitor(env, logdir, force=True, video_callable=lambda episode_id: episode_id%animate_interval==0)\n",
    "\n",
    "env._max_episodes_steps = min_timesteps_per_batch\n",
    "\n",
    "\n",
    "# Is this env continuous, or discrete?\n",
    "discrete = isinstance(env.action_space, gym.spaces.Discrete)\n",
    "\n",
    "# Get observation and action space dimensions\n",
    "obs_dim = env.observation_space.shape[0]\n",
    "act_dim = env.action_space.n if discrete else env.action_space.shape[0]\n",
    "\n",
    "# Maximum length for episodes\n",
    "max_path_length = max_path_length or env.spec.max_episode_steps"
   ]
  },
  {
   "cell_type": "code",
   "execution_count": 43,
   "metadata": {},
   "outputs": [
    {
     "name": "stdout",
     "output_type": "stream",
     "text": [
      "done\n"
     ]
    }
   ],
   "source": [
    "########### for saving optimal model video\n",
    "\n",
    "ob = env.reset() \n",
    "while True:\n",
    "    env.render()\n",
    "    time.sleep(0.05)\n",
    "    # get parametrized policy distribution from net using current state ob\n",
    "    net.eval()\n",
    "    var_ob = Variable(torch.unsqueeze(FloatTensor(ob),0), requires_grad=False)\n",
    "    distribution_parameters = net(var_ob)\n",
    "    # sample action and get log-probability (log_odds) from distribution\n",
    "    cuda_tensor_ac, log_odd= sample_action(logit = distribution_parameters , disct = discrete)\n",
    "    ac = cuda_tensor_ac.data[0].cpu().numpy()\n",
    "    # step environment, record reward, next state\n",
    "    new_ob, rew, done, _ = env.step(ac)\n",
    "    ob = new_ob\n",
    "    if done: break\n",
    "print('done')\n",
    "\n"
   ]
  },
  {
   "cell_type": "markdown",
   "metadata": {},
   "source": [
    "# Reinforce HalfCheetah-v1"
   ]
  },
  {
   "cell_type": "code",
   "execution_count": 8,
   "metadata": {},
   "outputs": [],
   "source": [
    "np.save('reinforce_halfcheetah_reward.npy', avg_rewards)\n",
    "np.save('reinforce_halfcheetah_step.npy', step_list_reinforce)"
   ]
  },
  {
   "cell_type": "code",
   "execution_count": 10,
   "metadata": {},
   "outputs": [
    {
     "data": {
      "text/plain": [
       "Text(0,0.5,'Average reward')"
      ]
     },
     "execution_count": 10,
     "metadata": {},
     "output_type": "execute_result"
    },
    {
     "data": {
      "image/png": "[encoded data removed]",
      "text/plain": [
       "<Figure size 432x288 with 1 Axes>"
      ]
     },
     "metadata": {},
     "output_type": "display_data"
    }
   ],
   "source": [
    "plt.plot(avg_rewards)\n",
    "plt.title('Training reward for <Reinforce HalfCheetah-v1> over multiple runs ')\n",
    "plt.xlabel('Iteration')\n",
    "plt.ylabel('Average reward')"
   ]
  },
  {
   "cell_type": "code",
   "execution_count": 11,
   "metadata": {},
   "outputs": [
    {
     "name": "stderr",
     "output_type": "stream",
     "text": [
      "[2018-05-15 15:42:06,135] Making new env: HalfCheetah-v1\n",
      "[2018-05-15 15:42:06,150] Clearing 4 monitor files from previous run (because force=True was provided)\n"
     ]
    }
   ],
   "source": [
    "env_name='HalfCheetah-v1'\n",
    "\n",
    "# Make the gym environment\n",
    "env = gym.make(env_name)\n",
    "visualize = True\n",
    "animate=visualize\n",
    "learning_rate = 1e-3\n",
    "\n",
    "max_path_length=None\n",
    "min_timesteps_per_batch = 2000  # sets the batch size for updating network\n",
    "\n",
    "# Set random seeds\n",
    "seed=0\n",
    "torch.manual_seed(seed)\n",
    "np.random.seed(seed)\n",
    "\n",
    "use_cuda = torch.cuda.is_available()\n",
    "FloatTensor = torch.cuda.FloatTensor if use_cuda else torch.FloatTensor\n",
    "LongTensor = torch.cuda.LongTensor if use_cuda else torch.LongTensor\n",
    "ByteTensor = torch.cuda.ByteTensor if use_cuda else torch.ByteTensor\n",
    "Tensor = FloatTensor\n",
    "\n",
    "# Saving parameters\n",
    "logdir='./REINFORCE/'\n",
    "\n",
    "if visualize:\n",
    "    if not os.path.exists(logdir):\n",
    "        os.mkdir(logdir)\n",
    "    env = gym.wrappers.Monitor(env, logdir, force=True, video_callable=lambda episode_id: episode_id%animate_interval==0)\n",
    "\n",
    "env._max_episodes_steps = min_timesteps_per_batch\n",
    "\n",
    "\n",
    "# Is this env continuous, or discrete?\n",
    "discrete = isinstance(env.action_space, gym.spaces.Discrete)\n",
    "\n",
    "# Get observation and action space dimensions\n",
    "obs_dim = env.observation_space.shape[0]\n",
    "act_dim = env.action_space.n if discrete else env.action_space.shape[0]\n",
    "\n",
    "# Maximum length for episodes\n",
    "max_path_length = max_path_length or env.spec.max_episode_steps"
   ]
  },
  {
   "cell_type": "code",
   "execution_count": 13,
   "metadata": {},
   "outputs": [
    {
     "name": "stdout",
     "output_type": "stream",
     "text": [
      "done\n"
     ]
    }
   ],
   "source": [
    "ob = env.reset() \n",
    "while True:\n",
    "    env.render()\n",
    "    time.sleep(0.05)\n",
    "    # get parametrized policy distribution from net using current state ob\n",
    "    net.eval()\n",
    "    var_ob = Variable(torch.unsqueeze(FloatTensor(ob),0), requires_grad=False)\n",
    "    distribution_parameters = net(var_ob)\n",
    "    # sample action and get log-probability (log_odds) from distribution\n",
    "    cuda_tensor_ac, log_odd= sample_action(logit = distribution_parameters , disct = discrete)\n",
    "    ac = cuda_tensor_ac.data[0].cpu().numpy()\n",
    "    # step environment, record reward, next state\n",
    "    new_ob, rew, done, _ = env.step(ac)\n",
    "    ob = new_ob\n",
    "    if done: break\n",
    "print('done')"
   ]
  },
  {
   "cell_type": "markdown",
   "metadata": {},
   "source": [
    "# BONUS (15% extra)\n",
    "\n",
    "Compare average returns for CartPole (discrete action space) when using REINFORCE and DQN. Since in REINFORCE we update the network after a set number of steps instead of after every episode, plot the average rewards as a function of steps rather than episodes for both DQN and REINFORCE. You will need to make minor edits to your DQN code from the previous assignment to record average returns as a function of time_steps.\n",
    "\n",
    "Similarly, compare REINFORCE with DDPG on InvertedPendulum and HalfCheetah using steps for the x-axis.\n",
    "\n",
    "You may use the example code provided below as a reference for the graphs.\n"
   ]
  },
  {
   "cell_type": "markdown",
   "metadata": {},
   "source": [
    "# DQN"
   ]
  },
  {
   "cell_type": "markdown",
   "metadata": {},
   "source": [
    "## 1.1 DQN environment setup"
   ]
  },
  {
   "cell_type": "code",
   "execution_count": 25,
   "metadata": {},
   "outputs": [
    {
     "name": "stderr",
     "output_type": "stream",
     "text": [
      "[2018-05-15 13:02:24,780] Making new env: CartPole-v0\n"
     ]
    }
   ],
   "source": [
    " # import your DQN and format your average returns as defined above\n",
    "import gym\n",
    "import numpy as np\n",
    "import matplotlib.pyplot as plt\n",
    "\n",
    "from collections import namedtuple\n",
    "import random\n",
    "import torch\n",
    "import torch.nn as nn\n",
    "import torch.optim as optim\n",
    "import torch.nn.functional as F\n",
    "from torch.autograd import Variable\n",
    "\n",
    "# Create the CartPole game environment\n",
    "env = gym.make('CartPole-v0')\n",
    "env.reset()\n",
    "use_cuda = torch.cuda.is_available()\n",
    "# use_cuda = False\n",
    "FloatTensor = torch.cuda.FloatTensor if use_cuda else torch.FloatTensor\n",
    "LongTensor = torch.cuda.LongTensor if use_cuda else torch.LongTensor\n",
    "ByteTensor = torch.cuda.ByteTensor if use_cuda else torch.ByteTensor\n",
    "\n",
    "class Net(nn.Module):\n",
    "# Define your network here\n",
    "    def __init__(self, state_size, action_size, hidden_size):\n",
    "        super(Net, self).__init__()\n",
    "        self.fc1 = nn.Linear(state_size, hidden_size)\n",
    "        self.fc1.weight.data.normal_(0, 0.1)   # initialization\n",
    "        self.out = nn.Linear(hidden_size, action_size)\n",
    "        self.out.weight.data.normal_(0, 0.1)   # initialization\n",
    "    def forward(self, x):\n",
    "        x = self.fc1(x)\n",
    "        x = F.tanh(x)\n",
    "        Qs_actions = self.out(x) # Q value for one state, at different actions\n",
    "        return Qs_actions\n",
    "\n",
    "class QNetwork:\n",
    "    def __init__(self, learning_rate, state_size, action_size, hidden_size, alpha_decay):\n",
    "        self.LR = learning_rate\n",
    "        self.state_size = state_size\n",
    "        self.action_size = action_size\n",
    "        self.hidden_size = hidden_size\n",
    "        self.alpha_decay = alpha_decay\n",
    "        self.model = Net(self.state_size, self.action_size, self.hidden_size)\n",
    "        self.optimizer = torch.optim.Adam(self.model.parameters(), lr=self.LR)\n",
    "        self.criterion = nn.MSELoss()\n",
    "    \n",
    "    def learn(self, batch_Q_behavior, batch_Q_target):\n",
    "        loss = self.criterion(batch_Q_behavior, batch_Q_target)\n",
    "        self.optimizer.zero_grad()\n",
    "        loss.backward()\n",
    "        self.optimizer.step()\n",
    "        "
   ]
  },
  {
   "cell_type": "markdown",
   "metadata": {},
   "source": [
    "## 1.2 DQN replay buffer"
   ]
  },
  {
   "cell_type": "code",
   "execution_count": 26,
   "metadata": {},
   "outputs": [],
   "source": [
    "class Replay():\n",
    "    def __init__(self, max_size):\n",
    "        self.capacity = max_size\n",
    "        self.memory = []\n",
    "        self.position = 0\n",
    "        self.gamma = 0.99\n",
    "\n",
    "    def initialize(self, init_length, envir):\n",
    "        st = env.reset()\n",
    "        for _ in range(init_length):\n",
    "            a = np.random.randint(2, size=1)\n",
    "            st1, r, done, info = env.step(int(a))\n",
    "            self.push((st, a, st1, r, done))\n",
    "            if done: st = env.reset()\n",
    "            else : st = st1\n",
    "            \n",
    "    def push(self, transition):\n",
    "        if len(self.memory) < self.capacity:\n",
    "            self.memory.append(None)\n",
    "        self.memory[self.position] = transition\n",
    "        self.position = (self.position + 1) % self.capacity\n",
    "        \n",
    "    def generate_minibatch(self, DQN, targetDQN, batch_size):\n",
    "        \n",
    "        batch_memory = random.sample(self.memory, batch_size) #return a list\n",
    "        batch_memory = list(zip(*batch_memory))\n",
    "        \n",
    "        batch_st = Variable(FloatTensor(batch_memory[0]))\n",
    "        batch_at = Variable(LongTensor(batch_memory[1]))\n",
    "        batch_st1 = Variable(FloatTensor(batch_memory[2]))\n",
    "        batch_r = Variable(torch.unsqueeze(FloatTensor(batch_memory[3]),1))\n",
    "        batch_done = FloatTensor(batch_memory[4])\n",
    "\n",
    "        batch_Q_behavior = DQN.model(batch_st).gather(1, batch_at)\n",
    "        mask = 1. - batch_done\n",
    "        batch_Q_next = targetDQN.model(batch_st1).detach()\n",
    "        \n",
    "        QQ_next = Variable((batch_Q_next.max(1)[0].data * mask).view(batch_size, 1))\n",
    "        batch_Q_target = batch_r + self.gamma*(QQ_next)\n",
    "        return batch_Q_behavior, batch_Q_target\n",
    "         \n",
    "    def __len__(self):            \n",
    "        return len(self.memory)\n",
    "    \n",
    "    "
   ]
  },
  {
   "cell_type": "markdown",
   "metadata": {},
   "source": [
    "## 1.3 DQN training"
   ]
  },
  {
   "cell_type": "code",
   "execution_count": 27,
   "metadata": {
    "collapsed": true
   },
   "outputs": [
    {
     "name": "stdout",
     "output_type": "stream",
     "text": [
      "run gpu !\n",
      "Average reward: 35.93400687794351\n",
      "Average reward: 88.21826325214823\n",
      "Average reward: 162.31065543738222\n",
      "Average reward: 158.0463836316632\n",
      "Average reward: 80.92988438852923\n",
      "Average reward: 195.15084026015444\n",
      "Average reward: 198.58993299416161\n",
      "Average reward: 199.4181045682817\n",
      "Average reward: 199.99655487109317\n",
      "Average reward: 189.37563464654048\n",
      "Average reward: 199.93709813447714\n",
      "Average reward: 199.999627587667\n",
      "Average reward: 199.99999779512174\n",
      "Average reward: 199.9999999869458\n",
      "Average reward: 199.99999999992258\n",
      "Average reward: 199.99999999999935\n",
      "Average reward: 199.99999999999955\n",
      "Average reward: 199.99999999999955\n",
      "Average reward: 199.99999999999955\n",
      "finished training\n"
     ]
    }
   ],
   "source": [
    "learning_rate = 0.01 \n",
    "action_size = env.action_space.n\n",
    "state_size = env.observation_space.shape[0]\n",
    "hidden_size = 64\n",
    "alpha_decay = 0.1\n",
    "batch_size = 500\n",
    "\n",
    "DQN = QNetwork(learning_rate, state_size, action_size, hidden_size, alpha_decay)\n",
    "targetDQN = QNetwork(learning_rate, state_size, action_size, hidden_size, alpha_decay)\n",
    "# set targetDQN weights to DQN weights\n",
    "# for ex. targetDQN.model.weights = DQN.model.weights (syntax given here is for representation purpose only)\n",
    "targetDQN.model.load_state_dict(DQN.model.state_dict())\n",
    "replay = Replay(max_size=10000) ## Initialize Replay Buffer\n",
    "replay.initialize(init_length=1000, envir=env) ## Populate the initial experience buffer\n",
    "if use_cuda:\n",
    "    print('run gpu !')\n",
    "    targetDQN.model.cuda()\n",
    "    DQN.model.cuda()\n",
    "else: \n",
    "    print('gpu not activited !')\n",
    "    \n",
    "# Runtime parameters\n",
    "num_episodes = 2000            # max number of episodes to learn from\n",
    "gamma = 0.99                   # future reward discount\n",
    "max_steps = 500                # cut off simulation after this many steps\n",
    "# Exploration parameters\n",
    "min_epsilon = 0.01             # minimum exploration probability\n",
    "decay_rate = 5/num_episodes    # exponential decay rate for exploration prob\n",
    "returns = np.zeros(num_episodes)\n",
    "step_list_DQN = []\n",
    "total_steps = 0\n",
    "avg_reward = 0\n",
    "avg_rewards = []\n",
    "logging_interval = 100\n",
    "\n",
    "\n",
    "for ep in range(1, num_episodes): # ep now is for one iteration\n",
    "    paths = []\n",
    "    steps = 0\n",
    "    while True: #  paths = a number of episode, but restricted by step> 2000 break\n",
    "        total_reward = 0\n",
    "        epsilon = min_epsilon + (1.0 - min_epsilon)*np.exp(-decay_rate*ep)\n",
    "    # --> start episode\n",
    "        state = env.reset()\n",
    "        rews = []\n",
    "        for step in range(max_steps): # path = one episode\n",
    "            # generate the steps in each episode \n",
    "            # explore/exploit and get action using DQN\n",
    "            if random.random()<= epsilon:\n",
    "                action = np.random.randint(2, size=1)\n",
    "            else:\n",
    "                var_state = Variable(torch.unsqueeze(FloatTensor(state),0))# here change the (4,) to (1,4) in variable \n",
    "                DQN.model.eval()\n",
    "                Qs_actions = DQN.model.forward(var_state) # shape of (1, 2) variable\n",
    "                DQN.model.train()\n",
    "                cuda_tensor_action = torch.max(Qs_actions,1)[1].data\n",
    "                action = cuda_tensor_action.cpu().numpy()\n",
    "\n",
    "            new_state, reward, done, _ = env.step(int(action))\n",
    "            rews.append(reward)\n",
    "            replay.push((state, action, new_state, reward, done))\n",
    "            steps += 1\n",
    "        # perform action and record new_state, action, reward\n",
    "        # populate Replay experience buffer \n",
    "            if done:  break\n",
    "            else: state = new_state \n",
    "        # <-- end episode\n",
    "        path={'reward':np.array(rews)}\n",
    "        paths.append(path)\n",
    "        if steps > 2000: break\n",
    "    \n",
    "    batch_Q_behavior, batch_Q_target = replay.generate_minibatch(DQN, targetDQN, batch_size) #outputs and targets\n",
    "    DQN.learn(batch_Q_behavior, batch_Q_target) \n",
    "    targetDQN.model.load_state_dict(DQN.model.state_dict())\n",
    " \n",
    "    avg_reward = avg_reward * 0.95 + 0.05 * path['reward'].sum()\n",
    "    total_steps += steps\n",
    "    avg_rewards.append(avg_reward)\n",
    "    step_list_DQN.append(total_steps)\n",
    "    if ep % logging_interval == 0: print('Average reward: {}'.format(avg_reward)) \n",
    "print('finished training')\n",
    "\n",
    "    \n",
    " "
   ]
  },
  {
   "cell_type": "markdown",
   "metadata": {},
   "source": [
    "## 1.4 DQN Cartpole Results"
   ]
  },
  {
   "cell_type": "code",
   "execution_count": 28,
   "metadata": {},
   "outputs": [],
   "source": [
    "np.save('DQN_cartpole_reward.npy', avg_rewards)\n",
    "np.save('DQN_cartpole_step.npy', step_list_DQN)"
   ]
  },
  {
   "cell_type": "code",
   "execution_count": 29,
   "metadata": {},
   "outputs": [
    {
     "data": {
      "text/plain": [
       "Text(0,0.5,'Average reward')"
      ]
     },
     "execution_count": 29,
     "metadata": {},
     "output_type": "execute_result"
    },
    {
     "data": {
      "image/png": "[encoded data removed]",
      "text/plain": [
       "<Figure size 432x288 with 1 Axes>"
      ]
     },
     "metadata": {},
     "output_type": "display_data"
    }
   ],
   "source": [
    "plt.plot(avg_rewards)\n",
    "plt.title('Training reward for <DQN Cartpole> over multiple runs ')\n",
    "plt.xlabel('Iteration')\n",
    "plt.ylabel('Average reward')"
   ]
  },
  {
   "cell_type": "markdown",
   "metadata": {},
   "source": [
    "# DQN vs Reinforce"
   ]
  },
  {
   "cell_type": "markdown",
   "metadata": {},
   "source": [
    "## CartPole (discrete action space)"
   ]
  },
  {
   "cell_type": "code",
   "execution_count": 4,
   "metadata": {},
   "outputs": [],
   "source": [
    "running_rewards_ddpg=np.load('DQN_cartpole_reward.npy')\n",
    "step_list_DQN=np.load('DQN_cartpole_step.npy')\n",
    "\n",
    "avg_rewards = np.load('reinforce_cartpole_reward.npy')\n",
    "step_list_reinforce = np.load('reinforce_cartpole_step.npy')\n"
   ]
  },
  {
   "cell_type": "code",
   "execution_count": 5,
   "metadata": {},
   "outputs": [
    {
     "data": {
      "image/png": "[encoded data removed]",
      "text/plain": [
       "<Figure size 432x288 with 1 Axes>"
      ]
     },
     "metadata": {},
     "output_type": "display_data"
    }
   ],
   "source": [
    "plt.figure()\n",
    "out = numpy_ewma_vectorized_v2(np.array(running_rewards_ddpg),20)\n",
    "plt.plot(step_list_DQN, out)\n",
    "plt.title('Training reward over multiple runs')\n",
    "plt.xlabel('Number of steps')\n",
    "plt.ylabel('Cumulative reward')\n",
    "plt.plot(step_list_reinforce, avg_rewards)\n",
    "plt.legend(['DQN', 'REINFORCE'])\n",
    "plt.show()"
   ]
  },
  {
   "cell_type": "markdown",
   "metadata": {},
   "source": [
    "# DDPG vs Reinforce"
   ]
  },
  {
   "cell_type": "markdown",
   "metadata": {},
   "source": [
    "## Inverted Pendulum-v1"
   ]
  },
  {
   "cell_type": "code",
   "execution_count": 17,
   "metadata": {},
   "outputs": [],
   "source": [
    "running_rewards_ddpg=np.load('ddpg_inverted_pendulum_reward.npy')\n",
    "step_list_ddpg=np.load('ddpg_inverted_pendulum_step.npy')\n",
    "\n",
    "avg_rewards = np.load('reinforce_inverted_pendulum_reward.npy')\n",
    "step_list_reinforce = np.load('reinforce_inverted_pendulum_step.npy')"
   ]
  },
  {
   "cell_type": "code",
   "execution_count": 18,
   "metadata": {},
   "outputs": [
    {
     "data": {
      "image/png": "[encoded data removed]",
      "text/plain": [
       "<Figure size 432x288 with 1 Axes>"
      ]
     },
     "metadata": {},
     "output_type": "display_data"
    }
   ],
   "source": [
    "plt.figure()\n",
    "\n",
    "out = numpy_ewma_vectorized_v2(np.array(running_rewards_ddpg),20)\n",
    "plt.plot(step_list_ddpg, out) \n",
    "plt.title('Training reward over multiple runs')\n",
    "plt.xlabel('Number of steps')\n",
    "plt.ylabel('Cumulative reward')\n",
    "plt.plot(step_list_reinforce, avg_rewards)\n",
    "plt.legend(['DDPG', 'REINFORCE']) \n",
    "\n",
    "plt.show()"
   ]
  },
  {
   "cell_type": "markdown",
   "metadata": {},
   "source": [
    "##  HalfCheetah-v1"
   ]
  },
  {
   "cell_type": "code",
   "execution_count": 17,
   "metadata": {},
   "outputs": [],
   "source": [
    "running_rewards_ddpg=np.load('ddpg_halfcheetah_reward.npy')\n",
    "step_list_ddpg=np.load('ddpg_halfcheetah_step.npy')\n",
    "\n",
    "avg_rewards = np.load('reinforce_halfcheetah_reward.npy')\n",
    "step_list_reinforce = np.load('reinforce_halfcheetah_step.npy')"
   ]
  },
  {
   "cell_type": "code",
   "execution_count": 18,
   "metadata": {},
   "outputs": [
    {
     "data": {
      "image/png": "[encoded data removed]",
      "text/plain": [
       "<Figure size 432x288 with 1 Axes>"
      ]
     },
     "metadata": {},
     "output_type": "display_data"
    }
   ],
   "source": [
    "plt.figure()\n",
    "out = numpy_ewma_vectorized_v2(np.array(running_rewards_ddpg),20)\n",
    "plt.plot(step_list_ddpg, out) # or plt.plot(step_list_DQN, out)\n",
    "plt.title('Training reward over multiple runs')\n",
    "plt.xlabel('Number of steps')\n",
    "plt.ylabel('Cumulative reward')\n",
    "plt.plot(step_list_reinforce, avg_rewards)\n",
    "plt.legend(['DDPG', 'REINFORCE']) \n",
    "\n",
    "plt.show()"
   ]
  }
 ],
 "metadata": {
  "anaconda-cloud": {},
  "kernelspec": {
   "display_name": "Python 3",
   "language": "python",
   "name": "python3"
  },
  "language_info": {
   "codemirror_mode": {
    "name": "ipython",
    "version": 3
   },
   "file_extension": ".py",
   "mimetype": "text/x-python",
   "name": "python",
   "nbconvert_exporter": "python",
   "pygments_lexer": "ipython3",
   "version": "3.6.3"
  },
  "varInspector": {
   "cols": {
    "lenName": 16,
    "lenType": 16,
    "lenVar": 40
   },
   "kernels_config": {
    "python": {
     "delete_cmd_postfix": "",
     "delete_cmd_prefix": "del ",
     "library": "var_list.py",
     "varRefreshCmd": "print(var_dic_list())"
    },
    "r": {
     "delete_cmd_postfix": ") ",
     "delete_cmd_prefix": "rm(",
     "library": "var_list.r",
     "varRefreshCmd": "cat(var_dic_list()) "
    }
   },
   "types_to_exclude": [
    "module",
    "function",
    "builtin_function_or_method",
    "instance",
    "_Feature"
   ],
   "window_display": false
  }
 },
 "nbformat": 4,
 "nbformat_minor": 2
}
